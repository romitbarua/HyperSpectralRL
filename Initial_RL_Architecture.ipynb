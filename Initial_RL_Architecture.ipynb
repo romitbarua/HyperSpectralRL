{
 "cells": [
  {
   "cell_type": "code",
   "execution_count": 1,
   "id": "2f716506",
   "metadata": {},
   "outputs": [],
   "source": [
    "from sklearn.linear_model import LogisticRegression\n",
    "import scipy.io\n",
    "import numpy as np\n",
    "import h5py\n",
    "from sklearn.datasets import make_classification\n",
    "from sklearn.metrics import accuracy_score\n",
    "import seaborn as sns\n",
    "import matplotlib.pyplot as plt\n",
    "from sklearn.neighbors import KNeighborsClassifier\n",
    "import pandas as pd\n",
    "from sklearn.ensemble import RandomForestClassifier"
   ]
  },
  {
   "cell_type": "code",
   "execution_count": 5,
   "id": "05876965",
   "metadata": {},
   "outputs": [],
   "source": [
    "indian_pines_file_path = '/Users/romitbarua/Documents/Berkeley/Fall 2022/CS285-Deep Reinforcement Learning/Final Project/DRL4BS/data4classification/indian_pines_randomSampling_0.1_run_1.mat'\n",
    "\n",
    "class DataManager():\n",
    "    \n",
    "    def __init__(self, params):\n",
    "        \n",
    "        self.rl_data = None\n",
    "        self.dataset_type = params['dataset_type']\n",
    "        self.data_file_path = params['data_file_path']\n",
    "        \n",
    "        #load the data\n",
    "        assert self.dataset_type in ('IndianPines', 'Botswana'), f'{self.dataset_type} is not valid' \n",
    "        #separating out in case any of the data requires unique pre-processig\n",
    "        if self.dataset_type == 'IndianPines':\n",
    "            self.load_indian_pine_data(self.data_file_path)\n",
    "        elif self.dataset_type == 'Botswana':\n",
    "            self.load_botswana_data(self.data_file_path)\n",
    "            \n",
    "        #self.x_train = None\n",
    "        #self.y_train = None\n",
    "        #self.x_test = None\n",
    "        #self.y_test = None\n",
    "\n",
    "    def load_indian_pine_data(self, data_file_path):\n",
    "        \n",
    "        self.rl_data = scipy.io.loadmat(file_path)\n",
    "        \n",
    "        #data = h5py.File(file_path, 'r')\n",
    "        #self.x_train = np.array(data['x_tra']).transpose()\n",
    "        #self.y_train = np.argmax(np.array(data['y_tra']).transpose(), axis=1)\n",
    "        #self.x_test = np.array(data['x_test']).transpose()\n",
    "        #self.y_test = np.argmax(np.array(data['y_test']).transpose(), axis=1)\n",
    "        \n",
    "    def load_botswana_data(self, data_file_path):\n",
    "        \n",
    "        self.rl_data = scipy.io.loadmat(file_path)\n",
    "        "
   ]
  },
  {
   "cell_type": "code",
   "execution_count": null,
   "id": "d11f72c5",
   "metadata": {},
   "outputs": [],
   "source": [
    "class Agent():\n",
    "    \n",
    "    def __init__(self, params):\n",
    "        \n",
    "        self.agent_params['agent']\n",
    "        self.trajectory_sample_size = self.agent_params['trajectory_sample_size']\n",
    "        \n",
    "        self.data_params = params['data']\n",
    "        self.DataManager DataManager(self.data_params)\n",
    "        self.band_selection_num = self.data_params['band_selection_num']\n",
    "\n",
    "        self.critic_params = params['critic']\n",
    "        self.critic = QCritic(self.critic_params)\n",
    "        \n",
    "        self.policy = ArgMaxPolicy(self.critic)\n",
    "        \n",
    "    \n",
    "    def generateTrajectories(self):\n",
    "        for _ in range(self.trajectory_sample_size):\n",
    "            pass\n",
    "    \n",
    "    def sampleTrajectory(self):\n",
    "        \n",
    "        for _ in range(self.band_selection_num):\n",
    "            #ADD CODE TO QUERY THE POLICY AND RETURN THE SELECTED BAND \n",
    "            pass\n",
    "        \n",
    "        "
   ]
  },
  {
   "cell_type": "code",
   "execution_count": null,
   "id": "9641b59f",
   "metadata": {},
   "outputs": [],
   "source": [
    "class ArgMaxPolicy():\n",
    "    \n",
    "    def __init__(self, critic):\n",
    "        self.critic\n",
    "        \n",
    "    def get_action(self, obs):\n",
    "        \n",
    "        q_value_estimates = self.critic(obs)\n",
    "        \n",
    "        #return index of best action\n",
    "        return np.argmax(q_value_estimates)"
   ]
  },
  {
   "cell_type": "code",
   "execution_count": null,
   "id": "08a0c540",
   "metadata": {},
   "outputs": [],
   "source": [
    "class QCritic():\n",
    "    \n",
    "    def __init__(self, params):\n",
    "        pass\n",
    "    \n",
    "    def forward(self):\n",
    "        # will take in one hot encoded states and output a list of qu values\n",
    "        pass"
   ]
  },
  {
   "cell_type": "code",
   "execution_count": null,
   "id": "769ad536",
   "metadata": {},
   "outputs": [],
   "source": []
  },
  {
   "cell_type": "code",
   "execution_count": null,
   "id": "d45a46f1",
   "metadata": {},
   "outputs": [],
   "source": []
  }
 ],
 "metadata": {
  "kernelspec": {
   "display_name": "Python 3",
   "language": "python",
   "name": "python3"
  },
  "language_info": {
   "codemirror_mode": {
    "name": "ipython",
    "version": 3
   },
   "file_extension": ".py",
   "mimetype": "text/x-python",
   "name": "python",
   "nbconvert_exporter": "python",
   "pygments_lexer": "ipython3",
   "version": "3.8.8"
  }
 },
 "nbformat": 4,
 "nbformat_minor": 5
}
