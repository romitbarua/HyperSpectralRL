{
 "cells": [
  {
   "cell_type": "markdown",
   "id": "a000c3f9",
   "metadata": {},
   "source": [
    "# Setup"
   ]
  },
  {
   "cell_type": "code",
   "execution_count": 113,
   "id": "4d2d34f9",
   "metadata": {},
   "outputs": [],
   "source": [
    "#!pip install mat73"
   ]
  },
  {
   "cell_type": "code",
   "execution_count": 17,
   "id": "7b1e8c7c",
   "metadata": {},
   "outputs": [],
   "source": [
    "import numpy as np\n",
    "import scipy.io as sio\n",
    "import math\n",
    "import matplotlib.pyplot as plt\n",
    "from matplotlib import image\n",
    "import glob\n",
    "from scipy.stats.stats import pearsonr\n",
    "import mat73\n",
    "\n",
    "from sklearn.model_selection import train_test_split\n",
    "from sklearn.metrics import normalized_mutual_info_score\n"
   ]
  },
  {
   "cell_type": "code",
   "execution_count": 2,
   "id": "74e0d4e6",
   "metadata": {},
   "outputs": [],
   "source": [
    "# which datasets to read and write\n",
    "\n",
    "do_indian_pines = True \n",
    "do_salient_objects = True\n",
    "do_plastic_flakes = True\n",
    "do_choledoch_cancer = True"
   ]
  },
  {
   "cell_type": "markdown",
   "id": "9110b99a",
   "metadata": {},
   "source": [
    "## Define functions"
   ]
  },
  {
   "cell_type": "code",
   "execution_count": 4,
   "id": "cacd65d8",
   "metadata": {},
   "outputs": [],
   "source": [
    "# reward functions\n",
    "\n",
    "def calculate_correlations(data):\n",
    "    \n",
    "    #deal with the first state\n",
    "    ##### THIS LOGIC SEEMS WRONG - REGARDLESS OF THE FIRST PICK, YOU HAVE A REWARD OF 0#####\n",
    "    #if np.sum(state) <= 1:\n",
    "        #return 1\n",
    "    \n",
    "    selected_bands = np.random.randint(0,200,30)\n",
    "    corr_sum = 0\n",
    "    for i in selected_bands:\n",
    "        for j in selected_bands:\n",
    "            \n",
    "            corr_sum += pearsonr(data[:, i], \n",
    "                                 data[:, j])[0]\n",
    "            \n",
    "    return corr_sum/(len(selected_bands)**2)\n",
    "\n",
    "\n",
    "def calculate_mis(data):\n",
    "    \n",
    "    #deal with the first state\n",
    "    ##### THIS LOGIC SEEMS WRONG - REGARDLESS OF THE FIRST PICK, YOU HAVE A REWARD OF 0#####\n",
    "    #if np.sum(state) <= 1:\n",
    "        #return 1\n",
    "        \n",
    "    # needs to be in ints\n",
    "    \n",
    "    selected_bands = np.random.randint(0,200,30)\n",
    "    normalized_mutual_info_score_sum = 0\n",
    "    for i in selected_bands:\n",
    "        for j in selected_bands:\n",
    "            \n",
    "            normalized_mutual_info_score_sum += normalized_mutual_info_score(data[:, i],\n",
    "                                                                             data[:, j])\n",
    "            \n",
    "    return normalized_mutual_info_score_sum/(len(selected_bands)**2)\n"
   ]
  },
  {
   "cell_type": "code",
   "execution_count": 120,
   "id": "2c8d6b7e",
   "metadata": {},
   "outputs": [],
   "source": [
    "## dataset loading\n",
    "np.random.seed(seed=42)\n",
    "\n",
    "def load_datasets(Dataset, write=False):\n",
    "    \n",
    "    if Dataset == 'IN':\n",
    "        data_path = 'land_cover_classification/indian_pines/'\n",
    "        # data read and reshape\n",
    "        mat_data = sio.loadmat(data_path + 'Indian_pines_corrected.mat')\n",
    "        mat_gt = sio.loadmat(data_path + 'Indian_pines_gt.mat')\n",
    "        data_hsi = mat_data['indian_pines_corrected']\n",
    "        gt_hsi = mat_gt['indian_pines_gt']\n",
    "        data = data_hsi.reshape(\n",
    "            np.prod(data_hsi.shape[:2]), np.prod(data_hsi.shape[2:]))\n",
    "        gt = gt_hsi.reshape(np.prod(gt_hsi.shape[:2]), )\n",
    "    \n",
    "        # remove NA class (label = 0)\n",
    "        gt = gt[np.where(gt!=0)[0]]\n",
    "        data = data[np.where(gt!=0)[0], :]\n",
    "        CLASSES_NUM = len(np.unique(gt))\n",
    "        \n",
    "        # train test stratified split\n",
    "        # x_train, x_test, y_train, y_test = train_test_split(data, \n",
    "                                                            #gt,\n",
    "                                                            #test_size=1-split,\n",
    "                                                            #random_state=0,\n",
    "                                                            #stratify=gt)\n",
    "\n",
    "    if Dataset == 'SO':\n",
    "        data_path = 'salient_objects_segmentation/HS-SOD/'\n",
    "        hsi_paths = glob.glob(data_path + 'hyperspectral/*.mat')\n",
    "        gt_paths = []\n",
    "        for i in range(len(hsi_paths)):\n",
    "            num = hsi_paths[i].split('.')[0].split('/')[-1]\n",
    "            gt_paths.append(data_path + f'ground_truth/{num}.jpg')\n",
    "            \n",
    "        # sample 5 paths for experiment\n",
    "        indices = np.random.randint(0, 60, 5)\n",
    "        hsi_paths = np.array(hsi_paths)[indices]\n",
    "        gt_paths = np.array(gt_paths)[indices]\n",
    "        gt_write_paths = []\n",
    "        data_write_paths = []\n",
    "        \n",
    "        print('\\nHypercube write paths...')\n",
    "        for path in hsi_paths:\n",
    "            num = path.split('.')[0].split('/')[-1]\n",
    "            data_write_tmp = f'../HyperSpectralRL/data/salient_objects/hyperspectral_imagery/{num}.npy'\n",
    "            data_write_paths.append(data_write_tmp)\n",
    "            print(f'Saving {path} to  ->  {data_write_tmp}')     \n",
    "        \n",
    "        print('\\nLabel write paths...')\n",
    "        for path in gt_paths:\n",
    "            num = path.split('.')[0].split('/')[-1]\n",
    "            gt_write_tmp = f'../HyperSpectralRL/data/salient_objects/gt_labels/{num}.npy'\n",
    "            gt_write_paths.append(gt_write_tmp)            \n",
    "            print(f'Saving {path} to  ->  {gt_write_tmp}')\n",
    "            \n",
    "        # read samples\n",
    "        data = []\n",
    "        data_hsi = []\n",
    "        gt_hsi = []\n",
    "        gt = []\n",
    "        for path in hsi_paths:\n",
    "            mat_data = mat73.loadmat(path)  \n",
    "            mat_data = mat_data['hypercube'].astype(np.uint8)\n",
    "            data_hsi.append(mat_data)\n",
    "            data_tmp = mat_data.reshape(\n",
    "                np.prod(mat_data.shape[:2]), np.prod(mat_data.shape[2:]))\n",
    "            data.append(data_tmp)\n",
    "            \n",
    "        for path in gt_paths:\n",
    "            label_mask = image.imread(path)\n",
    "            gt_hsi.append(label_mask[:,:,0])\n",
    "            gt_tmp = label_mask[:,:,0].reshape(np.prod(label_mask[:,:,0].shape[:2]), )\n",
    "            gt_tmp[gt_tmp!=0] = 1\n",
    "            gt.append(gt_tmp.astype(np.uint8))\n",
    "        \n",
    "        if write:\n",
    "            for itr, img in enumerate(data):\n",
    "                np.save(data_write_paths[itr], img)\n",
    "            for itr, img in enumerate(gt):\n",
    "                np.save(gt_write_paths[itr], img)\n",
    "                \n",
    "    if Dataset == 'PF':\n",
    "        data_path = 'plastic_flakes_segmentation/HSOD-ICIP-2022/baselines_cropped/training/'\n",
    "        hsi_paths = glob.glob(data_path + 'crop/*.npz')\n",
    "        gt_paths = []\n",
    "        for i in range(len(hsi_paths)):\n",
    "            num = hsi_paths[i].split('.')[0].split('/')[-1]\n",
    "            gt_paths.append(data_path + f'annot/{num}.npy')\n",
    "            \n",
    "        print(hsi_paths[-1])\n",
    "        print(gt_paths[-1])\n",
    "        \n",
    "    if Dataset == 'CD':\n",
    "        data_path = 'cancer_cell_detection/L/'\n",
    "        hsi_paths = glob.glob(data_path + 'hyper/*.raw')\n",
    "        gt_paths = []\n",
    "        for i in range(len(hsi_paths)):\n",
    "            num = hsi_paths[i].split('.')[0].split('/')[-1]\n",
    "            gt_paths.append(data_path + f'annotation/{num}.xml')\n",
    "            \n",
    "        print(hsi_paths[-1])\n",
    "        print(gt_paths[-1])\n",
    "        \n",
    "    return data_hsi, gt_hsi, data, gt\n",
    "\n",
    "# add write paths for gt / data upon return\n",
    "\n"
   ]
  },
  {
   "cell_type": "code",
   "execution_count": 121,
   "id": "e34428d5",
   "metadata": {},
   "outputs": [
    {
     "name": "stdout",
     "output_type": "stream",
     "text": [
      "\n",
      "Hypercube write paths...\n",
      "Saving salient_objects_segmentation/HS-SOD/hyperspectral/0051.mat to  ->  ../HyperSpectralRL/data/salient_objects/hyperspectral_imagery/0051.npy\n",
      "Saving salient_objects_segmentation/HS-SOD/hyperspectral/0037.mat to  ->  ../HyperSpectralRL/data/salient_objects/hyperspectral_imagery/0037.npy\n",
      "Saving salient_objects_segmentation/HS-SOD/hyperspectral/0082.mat to  ->  ../HyperSpectralRL/data/salient_objects/hyperspectral_imagery/0082.npy\n",
      "Saving salient_objects_segmentation/HS-SOD/hyperspectral/0077.mat to  ->  ../HyperSpectralRL/data/salient_objects/hyperspectral_imagery/0077.npy\n",
      "Saving salient_objects_segmentation/HS-SOD/hyperspectral/0052.mat to  ->  ../HyperSpectralRL/data/salient_objects/hyperspectral_imagery/0052.npy\n",
      "\n",
      "Label write paths...\n",
      "Saving salient_objects_segmentation/HS-SOD/ground_truth/0051.jpg to  ->  ../HyperSpectralRL/data/salient_objects/gt_labels/0051.npy\n",
      "Saving salient_objects_segmentation/HS-SOD/ground_truth/0037.jpg to  ->  ../HyperSpectralRL/data/salient_objects/gt_labels/0037.npy\n",
      "Saving salient_objects_segmentation/HS-SOD/ground_truth/0082.jpg to  ->  ../HyperSpectralRL/data/salient_objects/gt_labels/0082.npy\n",
      "Saving salient_objects_segmentation/HS-SOD/ground_truth/0077.jpg to  ->  ../HyperSpectralRL/data/salient_objects/gt_labels/0077.npy\n",
      "Saving salient_objects_segmentation/HS-SOD/ground_truth/0052.jpg to  ->  ../HyperSpectralRL/data/salient_objects/gt_labels/0052.npy\n",
      "\n",
      "Dataset info...\n",
      "The shape of the original imagery: (768, 1024, 81)\n",
      "The shape of the original labels: (768, 1024)\n",
      "The shape of the flattened imagery: (786432, 81)\n",
      "The shape of the flattened labels: (786432,)\n",
      "The number of different classes: 2\n"
     ]
    }
   ],
   "source": [
    "if do_salient_objects:\n",
    "    data_hsi, gt_hsi, data, gt = load_datasets(\n",
    "        'SO', write=True)\n",
    "    \n",
    "    print('\\nDataset info...')\n",
    "    print('The shape of the original imagery:', data_hsi[0].shape)\n",
    "    print('The shape of the original labels:', gt_hsi[0].shape)\n",
    "    print('The shape of the flattened imagery:', data[0].shape)\n",
    "    print('The shape of the flattened labels:', gt[0].shape)\n",
    "    print('The number of different classes:', len(np.unique(gt[0])))"
   ]
  },
  {
   "cell_type": "code",
   "execution_count": 110,
   "id": "70da5ae2",
   "metadata": {},
   "outputs": [
    {
     "data": {
      "image/png": "[encoded data removed]",
      "text/plain": [
       "<Figure size 432x288 with 1 Axes>"
      ]
     },
     "metadata": {
      "needs_background": "light"
     },
     "output_type": "display_data"
    },
    {
     "data": {
      "text/plain": [
       "<Figure size 432x288 with 0 Axes>"
      ]
     },
     "execution_count": 110,
     "metadata": {},
     "output_type": "execute_result"
    },
    {
     "data": {
      "text/plain": [
       "<Figure size 432x288 with 0 Axes>"
      ]
     },
     "metadata": {},
     "output_type": "display_data"
    }
   ],
   "source": [
    "np.unique(gt[0])\n",
    "plt.imshow(gt[0].reshape([768, 1024]), cmap='Greys')\n",
    "plt.show()\n",
    "plt.figure()"
   ]
  },
  {
   "cell_type": "code",
   "execution_count": 78,
   "id": "5f9b005e",
   "metadata": {},
   "outputs": [
    {
     "data": {
      "text/plain": [
       "(768, 1024)"
      ]
     },
     "execution_count": 78,
     "metadata": {},
     "output_type": "execute_result"
    }
   ],
   "source": [
    "gt_hsi[-1].shape"
   ]
  },
  {
   "cell_type": "code",
   "execution_count": 43,
   "id": "2f5ca4e8",
   "metadata": {},
   "outputs": [
    {
     "name": "stdout",
     "output_type": "stream",
     "text": [
      "plastic_flakes_segmentation/HSOD-ICIP-2022/baselines_cropped/training/crop/try_8_1.npz\n",
      "plastic_flakes_segmentation/HSOD-ICIP-2022/baselines_cropped/training/annot/try_8_1.npy\n"
     ]
    }
   ],
   "source": [
    "if do_plastic_flakes:\n",
    "    load_datasets(\n",
    "        'PF')\n",
    "    "
   ]
  },
  {
   "cell_type": "code",
   "execution_count": 44,
   "id": "4a729f24",
   "metadata": {},
   "outputs": [
    {
     "name": "stdout",
     "output_type": "stream",
     "text": [
      "cancer_cell_detection/L/hyper/042145-20x-roi10.raw\n",
      "cancer_cell_detection/L/annotation/042145-20x-roi10.xml\n"
     ]
    }
   ],
   "source": [
    "if do_choledoch_cancer:\n",
    "    load_datasets(\n",
    "        'CD')\n",
    "    "
   ]
  },
  {
   "cell_type": "code",
   "execution_count": 63,
   "id": "3993bf1e",
   "metadata": {},
   "outputs": [
    {
     "name": "stdout",
     "output_type": "stream",
     "text": [
      "The shape of the original imagery: (145, 145, 200)\n",
      "The shape of the original labels: (145, 145) \n",
      "\n",
      "The shape of the flattened imagery: (10249, 200)\n",
      "The shape of the flattened labels: (10249,)\n",
      "The number of different classes: 16\n"
     ]
    },
    {
     "data": {
      "image/png": "[encoded data removed]",
      "text/plain": [
       "<Figure size 432x288 with 1 Axes>"
      ]
     },
     "metadata": {
      "needs_background": "light"
     },
     "output_type": "display_data"
    },
    {
     "data": {
      "image/png": "[encoded data removed]",
      "text/plain": [
       "<Figure size 432x288 with 1 Axes>"
      ]
     },
     "metadata": {
      "needs_background": "light"
     },
     "output_type": "display_data"
    },
    {
     "name": "stdout",
     "output_type": "stream",
     "text": [
      "\n",
      "Correlation reward for random 30 bands, x20 runs: 0.4729762710246493\n",
      "Normalized mutual information reward for random 30 bands, x20 runs: 0.5774787106580945\n"
     ]
    },
    {
     "data": {
      "text/plain": [
       "<Figure size 432x288 with 0 Axes>"
      ]
     },
     "metadata": {},
     "output_type": "display_data"
    }
   ],
   "source": [
    "if do_indian_pines:\n",
    "    \n",
    "    data_hsi, gt_hsi, data, gt = load_datasets(\n",
    "        'IN')\n",
    "    \n",
    "    print('The shape of the original imagery:', data_hsi.shape)\n",
    "    print('The shape of the original labels:', gt_hsi.shape, '\\n')\n",
    "    print('The shape of the flattened imagery:', data.shape)\n",
    "    print('The shape of the flattened labels:', gt.shape)\n",
    "    print('The number of different classes:', len(np.unique(gt)))\n",
    "    \n",
    "    # plot a sample band\n",
    "    plt.imshow(data_hsi[:,:,3]/np.max(data_hsi[:,:,3]*255), cmap='Greys')\n",
    "    plt.title(f'Indian pines band 3')\n",
    "    plt.axis(\"off\")\n",
    "    plt.show()\n",
    "    plt.figure()\n",
    "    # plot the labels\n",
    "    plt.imshow(gt_hsi, cmap='Greys')\n",
    "    plt.title(f'Ground truth')\n",
    "    plt.axis(\"off\")\n",
    "    plt.show()\n",
    "    plt.figure()\n",
    "    \n",
    "    # rewards\n",
    "    correlations = []\n",
    "    for i in range(20):\n",
    "        correlations.append(calculate_correlations(data))\n",
    "    print('\\nCorrelation reward for random 30 bands, x20 runs:', np.mean(correlations))\n",
    "    \n",
    "    mis = []\n",
    "    for i in range(20):\n",
    "        mis.append(calculate_mis(data))\n",
    "    print('Normalized mutual information reward for random 30 bands, x20 runs:', np.mean(mis))    \n",
    "    "
   ]
  },
  {
   "cell_type": "code",
   "execution_count": null,
   "id": "a71da5bb",
   "metadata": {},
   "outputs": [],
   "source": []
  }
 ],
 "metadata": {
  "kernelspec": {
   "display_name": "Python 3.8.8 64-bit ('base': conda)",
   "language": "python",
   "name": "python388jvsc74a57bd0301faebbd5cea7fd4466786a19f1bea9d8baf657aaca95ef39840c46b8697603"
  },
  "language_info": {
   "codemirror_mode": {
    "name": "ipython",
    "version": 3
   },
   "file_extension": ".py",
   "mimetype": "text/x-python",
   "name": "python",
   "nbconvert_exporter": "python",
   "pygments_lexer": "ipython3",
   "version": "3.8.8"
  }
 },
 "nbformat": 4,
 "nbformat_minor": 5
}
