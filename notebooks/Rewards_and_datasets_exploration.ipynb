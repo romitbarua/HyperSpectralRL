{
 "cells": [
  {
   "cell_type": "markdown",
   "id": "e97a89ce",
   "metadata": {},
   "source": [
    "# Setup"
   ]
  },
  {
   "cell_type": "code",
   "execution_count": 2,
   "id": "ef342a84",
   "metadata": {},
   "outputs": [],
   "source": [
    "import numpy as np\n",
    "import pandas as pd\n",
    "import scipy.io\n",
    "from scipy.stats import pearsonr\n",
    "import itertools\n",
    "import h5py\n",
    "import seaborn as sns\n",
    "import matplotlib.pyplot as plt\n",
    "\n",
    "from sklearn.neighbors import KNeighborsClassifier\n",
    "from sklearn.datasets import make_classification\n",
    "from sklearn.metrics import accuracy_score\n",
    "from sklearn.ensemble import RandomForestClassifier\n",
    "from sklearn.linear_model import LogisticRegression"
   ]
  },
  {
   "cell_type": "markdown",
   "metadata": {},
   "source": [
    "## Crop Classification (single image)"
   ]
  },
  {
   "cell_type": "code",
   "execution_count": null,
   "metadata": {},
   "outputs": [],
   "source": [
    "do_indian_pines = False  # (1992) https://purr.purdue.edu/publications/1947/1\n",
    "do_salinas = False  # https://paperswithcode.com/dataset/salinas"
   ]
  },
  {
   "cell_type": "markdown",
   "metadata": {},
   "source": [
    "## Marshland Vegetation Classification (single image)"
   ]
  },
  {
   "cell_type": "code",
   "execution_count": null,
   "metadata": {},
   "outputs": [],
   "source": [
    "do_kennedy_space = False  # (1996) https://paperswithcode.com/dataset/kennedy-space-center"
   ]
  },
  {
   "cell_type": "markdown",
   "metadata": {},
   "source": [
    "## Urban Land Cover Classification (single image)"
   ]
  },
  {
   "cell_type": "code",
   "execution_count": null,
   "metadata": {},
   "outputs": [],
   "source": [
    "do_pavia_u = False  # https://paperswithcode.com/dataset/pavia-university"
   ]
  },
  {
   "cell_type": "markdown",
   "metadata": {},
   "source": [
    "## Soil Moisture Regression (single image)"
   ]
  },
  {
   "cell_type": "code",
   "execution_count": 3,
   "id": "2a8e7f63",
   "metadata": {},
   "outputs": [],
   "source": [
    "do_soil_moisture = False # (2017) https://www.kaggle.com/datasets/binaryjoker/hyperspectral-benchmark-dataset-on-soil-moisture"
   ]
  },
  {
   "cell_type": "markdown",
   "metadata": {},
   "source": [
    "## Salient Object Instance Segmentation, multiple images"
   ]
  },
  {
   "cell_type": "code",
   "execution_count": null,
   "metadata": {},
   "outputs": [],
   "source": [
    "do_salient_objects = False  # (2018) https://github.com/gistairc/HS-SOD"
   ]
  },
  {
   "cell_type": "markdown",
   "metadata": {},
   "source": [
    "## Overlapping Plastic Flakes Semantic Segmentation, multiple images "
   ]
  },
  {
   "cell_type": "code",
   "execution_count": null,
   "metadata": {},
   "outputs": [],
   "source": [
    "do_plastic_flakes = False  # (2022) https://www.kaggle.com/datasets/mayaaghaei/hyperspectral-overlap-dataset-hsod"
   ]
  },
  {
   "cell_type": "markdown",
   "metadata": {},
   "source": [
    "## Coffee Type Classification, single image "
   ]
  },
  {
   "cell_type": "code",
   "execution_count": null,
   "metadata": {},
   "outputs": [],
   "source": [
    "do_coffee = False  # (2020) https://www.kaggle.com/datasets/hacarus/near-infrared-hyperspectral-image"
   ]
  },
  {
   "cell_type": "markdown",
   "metadata": {},
   "source": [
    "## Cancer Cells Instance Segmentation, multiple images"
   ]
  },
  {
   "cell_type": "code",
   "execution_count": null,
   "metadata": {},
   "outputs": [],
   "source": [
    "do_choledoch_cancer = False  # (2019) https://www.kaggle.com/datasets/ethelzq/multidimensional-choledoch-database?select=P"
   ]
  },
  {
   "cell_type": "markdown",
   "id": "823c2f42",
   "metadata": {},
   "source": [
    "# Load & Visualize Data"
   ]
  },
  {
   "cell_type": "code",
   "execution_count": null,
   "id": "bbcb5bf0",
   "metadata": {},
   "outputs": [],
   "source": []
  },
  {
   "cell_type": "code",
   "execution_count": null,
   "id": "d9b13058",
   "metadata": {},
   "outputs": [],
   "source": []
  },
  {
   "cell_type": "code",
   "execution_count": null,
   "id": "4e0d0927",
   "metadata": {},
   "outputs": [],
   "source": []
  },
  {
   "cell_type": "code",
   "execution_count": null,
   "id": "87c6478c",
   "metadata": {},
   "outputs": [],
   "source": []
  },
  {
   "cell_type": "code",
   "execution_count": 2,
   "id": "3023d2f1",
   "metadata": {},
   "outputs": [],
   "source": [
    "#load data\n",
    "dataset = 'IndianPines'\n",
    "\n",
    "if dataset == 'IndianPines':\n",
    "    data = h5py.File('data/original_paper/data4classification/indian_pines_randomSampling_0.1_run_1.mat', 'r')\n",
    "    selected_bands = scipy.io.loadmat('data/original_paper/results/drl_30_bands_indian_pines.mat')\n",
    "elif dataset == 'Botswana':\n",
    "    data = scipy.io.loadmat('data/original_paper/data4classification/botswana_randomSampling_0.1_run_1.mat')\n",
    "    selected_bands = scipy.io.loadmat('data/original_paper/results/drl_30_bands_botswana.mat')\n",
    "    "
   ]
  },
  {
   "cell_type": "code",
   "execution_count": 3,
   "id": "11ddb266",
   "metadata": {},
   "outputs": [],
   "source": [
    "if dataset == 'IndianPines':\n",
    "    x_train = np.array(data['x_tra']).transpose()\n",
    "    y_train = np.argmax(np.array(data['y_tra']).transpose(), axis=1)\n",
    "    x_test = np.array(data['x_test']).transpose()\n",
    "    y_test = np.argmax(np.array(data['y_test']).transpose(), axis=1)\n",
    "\n",
    "elif dataset == 'Botswana':\n",
    "    x_train = np.array(data['x_tra'])\n",
    "    y_train = np.argmax(np.array(data['y_tra']), axis=1)\n",
    "    x_test = np.array(data['x_test'])\n",
    "    y_test = np.argmax(np.array(data['y_test']), axis=1)\n",
    "        \n",
    "selected_bands = selected_bands['selected_bands'][0].astype(int)"
   ]
  },
  {
   "cell_type": "code",
   "execution_count": 4,
   "id": "37257405",
   "metadata": {},
   "outputs": [
    {
     "data": {
      "text/plain": [
       "(1043, 200)"
      ]
     },
     "execution_count": 4,
     "metadata": {},
     "output_type": "execute_result"
    }
   ],
   "source": [
    "x_train.shape"
   ]
  },
  {
   "cell_type": "code",
   "execution_count": 5,
   "id": "fe4a40c1",
   "metadata": {},
   "outputs": [
    {
     "data": {
      "text/plain": [
       "(1043,)"
      ]
     },
     "execution_count": 5,
     "metadata": {},
     "output_type": "execute_result"
    }
   ],
   "source": [
    "y_train.shape"
   ]
  },
  {
   "cell_type": "code",
   "execution_count": 6,
   "id": "2db8e293",
   "metadata": {},
   "outputs": [
    {
     "data": {
      "text/plain": [
       "(9323, 200)"
      ]
     },
     "execution_count": 6,
     "metadata": {},
     "output_type": "execute_result"
    }
   ],
   "source": [
    "x_test.shape"
   ]
  },
  {
   "cell_type": "code",
   "execution_count": 7,
   "id": "b8315b90",
   "metadata": {},
   "outputs": [
    {
     "data": {
      "text/plain": [
       "(9323,)"
      ]
     },
     "execution_count": 7,
     "metadata": {},
     "output_type": "execute_result"
    }
   ],
   "source": [
    "y_test.shape"
   ]
  },
  {
   "cell_type": "code",
   "execution_count": 11,
   "id": "86ec8f9e",
   "metadata": {},
   "outputs": [],
   "source": [
    "def runAvgCorrelation(x_test):\n",
    "    x_test = pd.DataFrame(x_test)\n",
    "    \n",
    "    correlations = {}\n",
    "    columns = x_test.columns.tolist()\n",
    "\n",
    "    for col_a, col_b in itertools.combinations(columns, 2):\n",
    "        correlations[str(col_a) + '__' + str(col_b)] = pearsonr(x_test.loc[:, col_a], x_test.loc[:, col_b])\n",
    "\n",
    "    result = pd.DataFrame.from_dict(correlations, orient='index')\n",
    "    result.columns = ['PCC', 'p-value']\n",
    "\n",
    "    return result['PCC'].sum()/len(result['PCC']), result['PCC']\n",
    "    \n",
    "    "
   ]
  },
  {
   "cell_type": "code",
   "execution_count": 12,
   "id": "04a25daf",
   "metadata": {},
   "outputs": [],
   "source": [
    "#running the correlation using all  bands\n",
    "a, b = runAvgCorrelation(x_test)"
   ]
  },
  {
   "cell_type": "code",
   "execution_count": 14,
   "id": "e2169382",
   "metadata": {},
   "outputs": [
    {
     "data": {
      "text/plain": [
       "-0.6507193376262812"
      ]
     },
     "execution_count": 14,
     "metadata": {},
     "output_type": "execute_result"
    }
   ],
   "source": [
    "b.min()"
   ]
  },
  {
   "cell_type": "code",
   "execution_count": 22,
   "id": "8c85f307",
   "metadata": {},
   "outputs": [
    {
     "data": {
      "text/plain": [
       "0.28610255865592354"
      ]
     },
     "execution_count": 22,
     "metadata": {},
     "output_type": "execute_result"
    }
   ],
   "source": [
    "#running the correlation using researchers selected bands\n",
    "x_test_researchers_band = x_test[:, selected_bands]\n",
    "runAvgCorrelation(x_test_researchers_band)"
   ]
  },
  {
   "cell_type": "code",
   "execution_count": 23,
   "id": "88b30173",
   "metadata": {},
   "outputs": [],
   "source": [
    "#running the correlation using randomly selected bands\n",
    "corr = []\n",
    "available_bands = np.arange(0, x_test.shape[1], 1)\n",
    "iterations = 200\n",
    "for i in range(iterations):\n",
    "    \n",
    "    sample_bands = np.random.choice(available_bands, 30, replace=False)\n",
    "    \n",
    "    x_test_random_bands = x_test[:, sample_bands]\n",
    "    corr.append(runAvgCorrelation(x_test_random_bands))"
   ]
  },
  {
   "cell_type": "code",
   "execution_count": 24,
   "id": "3e7b8f90",
   "metadata": {},
   "outputs": [
    {
     "data": {
      "image/png": "[encoded data removed]",
      "text/plain": [
       "<Figure size 640x480 with 1 Axes>"
      ]
     },
     "metadata": {},
     "output_type": "display_data"
    }
   ],
   "source": [
    "mean_corr = np.mean(corr)\n",
    "\n",
    "sns.histplot(corr)\n",
    "plt.axvline(mean_corr, label=f'Mean: {mean_corr:.6f}')\n",
    "plt.title('Distribution of Randomly Sampled Bands')\n",
    "plt.legend()\n",
    "plt.show()"
   ]
  },
  {
   "cell_type": "code",
   "execution_count": null,
   "id": "2558e6d6",
   "metadata": {},
   "outputs": [],
   "source": []
  }
 ],
 "metadata": {
  "interpreter": {
   "hash": "861578ed33d6db9f6e43f823b7375518afe7ad493904df3978bbfc03bb4b0487"
  },
  "kernelspec": {
   "display_name": "Python 3 (ipykernel)",
   "language": "python",
   "name": "python3"
  },
  "language_info": {
   "codemirror_mode": {
    "name": "ipython",
    "version": 3
   },
   "file_extension": ".py",
   "mimetype": "text/x-python",
   "name": "python",
   "nbconvert_exporter": "python",
   "pygments_lexer": "ipython3",
   "version": "3.8.8"
  }
 },
 "nbformat": 4,
 "nbformat_minor": 5
}
