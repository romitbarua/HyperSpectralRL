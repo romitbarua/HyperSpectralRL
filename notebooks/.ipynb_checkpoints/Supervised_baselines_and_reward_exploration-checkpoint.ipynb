{
 "cells": [
  {
   "cell_type": "markdown",
   "id": "a000c3f9",
   "metadata": {},
   "source": [
    "# Setup"
   ]
  },
  {
   "cell_type": "code",
   "execution_count": 45,
   "id": "7b1e8c7c",
   "metadata": {},
   "outputs": [],
   "source": [
    "import numpy as np\n",
    "import matplotlib.pyplot as plt\n",
    "from matplotlib import image\n",
    "import seaborn as sns\n",
    "import glob\n",
    "from scipy.stats.stats import pearsonr\n",
    "import pandas as pd\n",
    "\n",
    "from sklearn.model_selection import train_test_split\n",
    "from sklearn.metrics import normalized_mutual_info_score\n",
    "from sklearn.neural_network import MLPClassifier, MLPRegressor\n"
   ]
  },
  {
   "cell_type": "code",
   "execution_count": 21,
   "id": "74e0d4e6",
   "metadata": {},
   "outputs": [],
   "source": [
    "# which datasets to read and write\n",
    "\n",
    "do_indian_pines = True \n",
    "do_salient_objects = True\n",
    "do_plastic_flakes = True\n",
    "do_soil_moisture = True\n"
   ]
  },
  {
   "cell_type": "markdown",
   "id": "9110b99a",
   "metadata": {},
   "source": [
    "## Define functions"
   ]
  },
  {
   "cell_type": "code",
   "execution_count": 22,
   "id": "cacd65d8",
   "metadata": {},
   "outputs": [],
   "source": [
    "# reward functions\n",
    "\n",
    "def calculate_correlations(data, num_bands_originally, num_bands_kept):\n",
    "    \n",
    "    selected_bands = np.random.randint(0,num_bands_originally,num_bands_kept)\n",
    "    corr_sum = 0\n",
    "    for i in selected_bands:\n",
    "        for j in selected_bands:\n",
    "            \n",
    "            corr_sum += pearsonr(data[:, i], \n",
    "                                 data[:, j])[0]\n",
    "            \n",
    "    return corr_sum/(len(selected_bands)**2)\n",
    "\n",
    "\n",
    "def calculate_mutual_infos(data, num_bands_originally, num_bands_kept):\n",
    "    \n",
    "    selected_bands = np.random.randint(0,num_bands_originally,num_bands_kept)\n",
    "    normalized_mutual_info_score_sum = 0\n",
    "    for i in selected_bands:\n",
    "        for j in selected_bands:\n",
    "            \n",
    "            normalized_mutual_info_score_sum += normalized_mutual_info_score(data[:, i],\n",
    "                                                                             data[:, j])\n",
    "            \n",
    "    return normalized_mutual_info_score_sum/(len(selected_bands)**2)\n"
   ]
  },
  {
   "cell_type": "code",
   "execution_count": 92,
   "id": "2c8d6b7e",
   "metadata": {},
   "outputs": [],
   "source": [
    "## dataset loading\n",
    "np.random.seed(seed=42)\n",
    "\n",
    "def load_datasets(Dataset, train_val_split=False):\n",
    "    \n",
    "    np.random.seed(seed=42)\n",
    "    \n",
    "    if Dataset == 'SM':\n",
    "        hyper_path = '../data/soil_moisture/hyperspectral_imagery/*npy'\n",
    "        hyper = np.load(glob.glob(hyper_path)[0])\n",
    "        gt_path = '../data/soil_moisture/gt_labels/*npy'\n",
    "        gt = np.load(glob.glob(gt_path)[0])\n",
    "        return hyper, gt\n",
    "    \n",
    "    if Dataset == 'IN':\n",
    "        hyper_path = '../data/indian_pines/hyperspectral_imagery/*npy'\n",
    "        hyper = np.load(glob.glob(hyper_path)[0])\n",
    "        gt_path = '../data/indian_pines/gt_labels/*npy'\n",
    "        gt = np.load(glob.glob(gt_path)[0])\n",
    "        return hyper, gt\n",
    "    \n",
    "    if Dataset == 'SO':\n",
    "        hyper_path = '../data/salient_objects/hyperspectral_imagery/*npy'\n",
    "        gt_path = '../data/salient_objects/gt_labels/*npy'\n",
    "        hypers=[]\n",
    "        gt_labels=[]\n",
    "        for i in range(len(glob.glob(hyper_path))):\n",
    "            hyper = np.load(glob.glob(hyper_path)[i])\n",
    "            hypers.append(hyper)\n",
    "            gt = np.load(glob.glob(gt_path)[i])\n",
    "            gt_labels.append(gt)\n",
    "        return hypers, gt_labels\n",
    "\n",
    "                          \n",
    "    if Dataset == 'PF':\n",
    "        hyper_path = '../data/plastic_flakes/hyperspectral_imagery/*npy'\n",
    "        gt_path = '../data/plastic_flakes/gt_labels/*npy'\n",
    "        hypers=[]\n",
    "        gt_labels=[]\n",
    "        for i in range(len(glob.glob(hyper_path))):\n",
    "            hyper = np.load(glob.glob(hyper_path)[i])\n",
    "            hypers.append(hyper)\n",
    "            gt = np.load(glob.glob(gt_path)[i])\n",
    "            gt_labels.append(gt)\n",
    "        return hypers, gt_labels\n",
    "\n",
    "        \n",
    "    \n"
   ]
  },
  {
   "cell_type": "markdown",
   "id": "bf2503b2",
   "metadata": {},
   "source": [
    "## Soil moisture dataset"
   ]
  },
  {
   "cell_type": "code",
   "execution_count": 33,
   "id": "c068cf42",
   "metadata": {},
   "outputs": [
    {
     "name": "stdout",
     "output_type": "stream",
     "text": [
      "\n",
      "Dataset info...\n",
      "The shape of the original imagery: (679, 125)\n",
      "The shape of the original labels: (679,)\n"
     ]
    }
   ],
   "source": [
    "# load data\n",
    "\n",
    "if do_soil_moisture:\n",
    "    \n",
    "    hyper, gt = load_datasets(\n",
    "        'SM')\n",
    "    \n",
    "    print('\\nDataset info...')\n",
    "    print('The shape of the original imagery:', hyper.shape)\n",
    "    print('The shape of the original labels:', gt.shape)\n",
    "    "
   ]
  },
  {
   "cell_type": "code",
   "execution_count": 68,
   "id": "d35dd8ac",
   "metadata": {},
   "outputs": [
    {
     "name": "stdout",
     "output_type": "stream",
     "text": [
      "\n",
      "Correlation reward for random 10 bands, x25 runs: 0.987744527338685\n",
      "Normalized mutual information reward for random 10 bands, x25 runs: 0.695468234965127\n"
     ]
    },
    {
     "data": {
      "image/png": "[encoded data removed]",
      "text/plain": [
       "<Figure size 432x288 with 1 Axes>"
      ]
     },
     "metadata": {
      "needs_background": "light"
     },
     "output_type": "display_data"
    },
    {
     "data": {
      "text/plain": [
       "<Figure size 432x288 with 0 Axes>"
      ]
     },
     "metadata": {},
     "output_type": "display_data"
    }
   ],
   "source": [
    "# rewards\n",
    "    \n",
    "if do_soil_moisture:\n",
    "    num_runs = 25\n",
    "    \n",
    "    correlations = []\n",
    "    for i in range(num_runs):\n",
    "        correlations.append(calculate_correlations(hyper, num_bands_originally=hyper.shape[-1], num_bands_kept=10))\n",
    "    print(f'\\nCorrelation reward for random 10 bands, x{num_runs} runs:', np.mean(correlations))\n",
    "    \n",
    "    mis = []\n",
    "    for i in range(num_runs):\n",
    "        mis.append(calculate_mutual_infos(hyper, num_bands_originally=hyper.shape[-1], num_bands_kept=10))\n",
    "    print(f'Normalized mutual information reward for random 10 bands, x{num_runs} runs:', np.mean(mis))\n",
    "    \n",
    "    # plot rewards\n",
    "    a_string = ['pearson correlation (cumulative avg)'] * len(correlations)    \n",
    "    b_string = ['normalized mutual information (cumulative avg)'] * len(mis)\n",
    "    strings = a_string + b_string\n",
    "    pd_df = pd.DataFrame([correlations+mis, strings]).T\n",
    "    pd_df[0] = pd_df[0].astype(float, copy=True)\n",
    "    sns.histplot(data=pd_df, binwidth=0.008, x=0, hue=1, kde=True)\n",
    "    plt.title(f'Test', fontsize=17)\n",
    "    #plt.xlim([0,1])\n",
    "    plt.show()\n",
    "    plt.figure()"
   ]
  },
  {
   "cell_type": "code",
   "execution_count": null,
   "id": "8734d865",
   "metadata": {},
   "outputs": [],
   "source": [
    "# baseline models\n",
    "\n",
    "# ..\n",
    "\n"
   ]
  },
  {
   "cell_type": "markdown",
   "id": "5edd1315",
   "metadata": {},
   "source": [
    "## Indian Pines dataset"
   ]
  },
  {
   "cell_type": "code",
   "execution_count": 71,
   "id": "130f131f",
   "metadata": {},
   "outputs": [
    {
     "name": "stdout",
     "output_type": "stream",
     "text": [
      "\n",
      "Dataset info...\n",
      "The shape of the original imagery: (10249, 200)\n",
      "The shape of the original labels: (10249,)\n"
     ]
    }
   ],
   "source": [
    "# load data\n",
    "\n",
    "if do_indian_pines:\n",
    "    \n",
    "    hyper, gt = load_datasets(\n",
    "        'IN')\n",
    "    \n",
    "    print('\\nDataset info...')\n",
    "    print('The shape of the original imagery:', hyper.shape)\n",
    "    print('The shape of the original labels:', gt.shape)\n",
    "    "
   ]
  },
  {
   "cell_type": "code",
   "execution_count": 74,
   "id": "72c00326",
   "metadata": {},
   "outputs": [
    {
     "name": "stdout",
     "output_type": "stream",
     "text": [
      "\n",
      "Correlation reward for random 10 bands, x25 runs: 0.45898630326810236\n",
      "Normalized mutual information reward for random 10 bands, x25 runs: 0.347268589023166\n"
     ]
    },
    {
     "data": {
      "image/png": "[encoded data removed]",
      "text/plain": [
       "<Figure size 432x288 with 1 Axes>"
      ]
     },
     "metadata": {
      "needs_background": "light"
     },
     "output_type": "display_data"
    },
    {
     "data": {
      "text/plain": [
       "<Figure size 432x288 with 0 Axes>"
      ]
     },
     "metadata": {},
     "output_type": "display_data"
    }
   ],
   "source": [
    "# rewards\n",
    "    \n",
    "if do_indian_pines:\n",
    "    num_runs = 25\n",
    "    \n",
    "    correlations = []\n",
    "    for i in range(num_runs):\n",
    "        correlations.append(calculate_correlations(hyper, num_bands_originally=hyper.shape[-1], num_bands_kept=10))\n",
    "    print(f'\\nCorrelation reward for random 10 bands, x{num_runs} runs:', np.mean(correlations))\n",
    "    \n",
    "    mis = []\n",
    "    for i in range(num_runs):\n",
    "        mis.append(calculate_mutual_infos(hyper, num_bands_originally=hyper.shape[-1], num_bands_kept=10))\n",
    "    print(f'Normalized mutual information reward for random 10 bands, x{num_runs} runs:', np.mean(mis))\n",
    "    \n",
    "    # plot rewards\n",
    "    a_string = ['pearson correlation (cumulative avg)'] * len(correlations)    \n",
    "    b_string = ['normalized mutual information (cumulative avg)'] * len(mis)\n",
    "    strings = a_string + b_string\n",
    "    pd_df = pd.DataFrame([correlations+mis, strings]).T\n",
    "    pd_df[0] = pd_df[0].astype(float, copy=True)\n",
    "    sns.histplot(data=pd_df, bins=10, x=0, hue=1, kde=True)\n",
    "    plt.title(f'Test', fontsize=17)\n",
    "    #plt.xlim([0,1])\n",
    "    plt.show()\n",
    "    plt.figure()"
   ]
  },
  {
   "cell_type": "code",
   "execution_count": null,
   "id": "418f36be",
   "metadata": {},
   "outputs": [],
   "source": [
    "# baseline models\n"
   ]
  },
  {
   "cell_type": "markdown",
   "id": "655fdeba",
   "metadata": {},
   "source": [
    "## Plastic flakes dataset"
   ]
  },
  {
   "cell_type": "code",
   "execution_count": 90,
   "id": "9ec742e5",
   "metadata": {},
   "outputs": [
    {
     "name": "stdout",
     "output_type": "stream",
     "text": [
      "\n",
      "Dataset info...\n",
      "The shape of the original imagery: (5, 112128, 224)\n",
      "The shape of the original labels: (5, 112128)\n",
      "\n",
      "Dataset info...\n",
      "The shape of the vertically stacked images: (560640, 224)\n",
      "The shape of the vertically stacked images: (560640,)\n"
     ]
    }
   ],
   "source": [
    "# stacks all 5 images vertically\n",
    "\n",
    "# load data\n",
    "\n",
    "if do_plastic_flakes:\n",
    "    \n",
    "    hyper, gt = load_datasets(\n",
    "        'PF')\n",
    "    \n",
    "    hyper, gt = np.array(hyper), np.array(gt)\n",
    "    \n",
    "    hyper_multiple = np.empty([hyper.shape[0]*hyper.shape[1], hyper.shape[-1]])\n",
    "    gt_multiple = np.empty([gt.shape[0]*gt.shape[1]])\n",
    "    \n",
    "    print('\\nDataset info...')\n",
    "    print('The shape of the original imagery:', hyper.shape)\n",
    "    print('The shape of the original labels:', gt.shape)\n",
    "    \n",
    "    for i in range(hyper.shape[0]):\n",
    "        hyper_multiple[i*hyper.shape[1]:(i+1)*hyper.shape[1] , :] = hyper[i, :, :]\n",
    "        gt_multiple[i*hyper.shape[1]:(i+1)*hyper.shape[1]] = gt[i, :]\n",
    "\n",
    "    print('The shape of the vertically stacked images:', hyper_multiple.shape)\n",
    "    print('The shape of the vertically stacked images:', gt_multiple.shape)    \n"
   ]
  },
  {
   "cell_type": "code",
   "execution_count": 91,
   "id": "39aa3273",
   "metadata": {},
   "outputs": [
    {
     "name": "stdout",
     "output_type": "stream",
     "text": [
      "\n",
      "Correlation reward for random 10 bands, x25 runs: 0.9608346907815188\n",
      "Normalized mutual information reward for random 10 bands, x25 runs: 0.6797242550422973\n"
     ]
    },
    {
     "data": {
      "image/png": "[encoded data removed]",
      "text/plain": [
       "<Figure size 432x288 with 1 Axes>"
      ]
     },
     "metadata": {
      "needs_background": "light"
     },
     "output_type": "display_data"
    },
    {
     "data": {
      "text/plain": [
       "<Figure size 432x288 with 0 Axes>"
      ]
     },
     "metadata": {},
     "output_type": "display_data"
    }
   ],
   "source": [
    "# rewards\n",
    "    \n",
    "if do_plastic_flakes:\n",
    "    num_runs = 25\n",
    "    \n",
    "    correlations = []\n",
    "    for i in range(num_runs):\n",
    "        correlations.append(calculate_correlations(hyper_multiple, num_bands_originally=hyper_multiple.shape[-1], num_bands_kept=10))\n",
    "    print(f'\\nCorrelation reward for random 10 bands, x{num_runs} runs:', np.mean(correlations))\n",
    "    \n",
    "    mis = []\n",
    "    for i in range(num_runs):\n",
    "        mis.append(calculate_mutual_infos(hyper_multiple, num_bands_originally=hyper_multiple.shape[-1], num_bands_kept=10))\n",
    "    print(f'Normalized mutual information reward for random 10 bands, x{num_runs} runs:', np.mean(mis))\n",
    "    \n",
    "    # plot rewards\n",
    "    a_string = ['pearson correlation (cumulative avg)'] * len(correlations)    \n",
    "    b_string = ['normalized mutual information (cumulative avg)'] * len(mis)\n",
    "    strings = a_string + b_string\n",
    "    pd_df = pd.DataFrame([correlations+mis, strings]).T\n",
    "    pd_df[0] = pd_df[0].astype(float, copy=True)\n",
    "    sns.histplot(data=pd_df, bins=10, x=0, hue=1, kde=True)\n",
    "    plt.title(f'Test', fontsize=17)\n",
    "    #plt.xlim([0,1])\n",
    "    plt.show()\n",
    "    plt.figure()"
   ]
  },
  {
   "cell_type": "code",
   "execution_count": null,
   "id": "85a1545d",
   "metadata": {},
   "outputs": [],
   "source": [
    "# baseline models\n"
   ]
  },
  {
   "cell_type": "markdown",
   "id": "f91b27a8",
   "metadata": {},
   "source": [
    "## Salient objects dataset"
   ]
  },
  {
   "cell_type": "code",
   "execution_count": 94,
   "id": "c44dcfda",
   "metadata": {},
   "outputs": [
    {
     "name": "stdout",
     "output_type": "stream",
     "text": [
      "\n",
      "Dataset info...\n",
      "The shape of the original imagery: (5, 786432, 81)\n",
      "The shape of the original labels: (5, 786432)\n",
      "\n",
      "Dataset info...\n",
      "The shape of the vertically stacked images: (3932160, 81)\n",
      "The shape of the vertically stacked images: (3932160,)\n"
     ]
    }
   ],
   "source": [
    "# stacks all 5 images vertically\n",
    "\n",
    "# load data\n",
    "\n",
    "if do_salient_objects:\n",
    "    \n",
    "    hyper, gt = load_datasets(\n",
    "        'SO')\n",
    "    \n",
    "    hyper, gt = np.array(hyper), np.array(gt)\n",
    "    \n",
    "    hyper_multiple = np.empty([hyper.shape[0]*hyper.shape[1], hyper.shape[-1]])\n",
    "    gt_multiple = np.empty([gt.shape[0]*gt.shape[1]])\n",
    "    \n",
    "    print('\\nDataset info...')\n",
    "    print('The shape of the original imagery:', hyper.shape)\n",
    "    print('The shape of the original labels:', gt.shape)\n",
    "    \n",
    "    for i in range(hyper.shape[0]):\n",
    "        hyper_multiple[i*hyper.shape[1]:(i+1)*hyper.shape[1] , :] = hyper[i, :, :]\n",
    "        gt_multiple[i*hyper.shape[1]:(i+1)*hyper.shape[1]] = gt[i, :]\n",
    "\n",
    "    print('\\nDataset info...')\n",
    "    print('The shape of the vertically stacked images:', hyper_multiple.shape)\n",
    "    print('The shape of the vertically stacked images:', gt_multiple.shape)    \n"
   ]
  },
  {
   "cell_type": "code",
   "execution_count": 95,
   "id": "77cabedd",
   "metadata": {},
   "outputs": [
    {
     "name": "stdout",
     "output_type": "stream",
     "text": [
      "\n",
      "Correlation reward for random 10 bands, x1 runs: 0.1510761325785268\n",
      "Normalized mutual information reward for random 10 bands, x1 runs: 0.16136298461014176\n"
     ]
    },
    {
     "name": "stderr",
     "output_type": "stream",
     "text": [
      "/Users/danielfurman/opt/anaconda3/lib/python3.8/site-packages/seaborn/distributions.py:306: UserWarning: Dataset has 0 variance; skipping density estimate.\n",
      "  warnings.warn(msg, UserWarning)\n"
     ]
    },
    {
     "data": {
      "image/png": "[encoded data removed]",
      "text/plain": [
       "<Figure size 432x288 with 1 Axes>"
      ]
     },
     "metadata": {
      "needs_background": "light"
     },
     "output_type": "display_data"
    },
    {
     "data": {
      "text/plain": [
       "<Figure size 432x288 with 0 Axes>"
      ]
     },
     "metadata": {},
     "output_type": "display_data"
    }
   ],
   "source": [
    "# rewards\n",
    "    \n",
    "if do_plastic_flakes:\n",
    "    num_runs = 1\n",
    "    \n",
    "    correlations = []\n",
    "    for i in range(num_runs):\n",
    "        correlations.append(calculate_correlations(hyper_multiple, num_bands_originally=hyper_multiple.shape[-1], num_bands_kept=10))\n",
    "    print(f'\\nCorrelation reward for random 10 bands, x{num_runs} runs:', np.mean(correlations))\n",
    "    \n",
    "    mis = []\n",
    "    for i in range(num_runs):\n",
    "        mis.append(calculate_mutual_infos(hyper_multiple, num_bands_originally=hyper_multiple.shape[-1], num_bands_kept=10))\n",
    "    print(f'Normalized mutual information reward for random 10 bands, x{num_runs} runs:', np.mean(mis))\n",
    "    \n",
    "    # plot rewards\n",
    "    a_string = ['pearson correlation (cumulative avg)'] * len(correlations)    \n",
    "    b_string = ['normalized mutual information (cumulative avg)'] * len(mis)\n",
    "    strings = a_string + b_string\n",
    "    pd_df = pd.DataFrame([correlations+mis, strings]).T\n",
    "    pd_df[0] = pd_df[0].astype(float, copy=True)\n",
    "    sns.histplot(data=pd_df, bins=10, x=0, hue=1, kde=True)\n",
    "    plt.title(f'Test', fontsize=17)\n",
    "    #plt.xlim([0,1])\n",
    "    plt.show()\n",
    "    plt.figure()"
   ]
  },
  {
   "cell_type": "code",
   "execution_count": null,
   "id": "74135e6c",
   "metadata": {},
   "outputs": [],
   "source": []
  }
 ],
 "metadata": {
  "kernelspec": {
   "display_name": "Python 3.8.8 64-bit ('base': conda)",
   "language": "python",
   "name": "python388jvsc74a57bd0301faebbd5cea7fd4466786a19f1bea9d8baf657aaca95ef39840c46b8697603"
  },
  "language_info": {
   "codemirror_mode": {
    "name": "ipython",
    "version": 3
   },
   "file_extension": ".py",
   "mimetype": "text/x-python",
   "name": "python",
   "nbconvert_exporter": "python",
   "pygments_lexer": "ipython3",
   "version": "3.8.8"
  }
 },
 "nbformat": 4,
 "nbformat_minor": 5
}
