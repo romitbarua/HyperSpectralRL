{
 "cells": [
  {
   "cell_type": "markdown",
   "id": "a000c3f9",
   "metadata": {},
   "source": [
    "# Setup"
   ]
  },
  {
   "cell_type": "code",
   "execution_count": 1,
   "id": "7b1e8c7c",
   "metadata": {},
   "outputs": [],
   "source": [
    "import numpy as np\n",
    "import matplotlib.pyplot as plt\n",
    "from matplotlib import image\n",
    "import seaborn as sns\n",
    "import glob\n",
    "from scipy.stats.stats import pearsonr\n",
    "import pandas as pd\n",
    "\n",
    "from sklearn.model_selection import train_test_split\n",
    "from sklearn.metrics import normalized_mutual_info_score\n",
    "from sklearn.linear_model import LogisticRegression, LinearRegression\n",
    "from sklearn.neural_network import MLPClassifier, MLPRegressor\n",
    "from sklearn.metrics import accuracy_score, f1_score, balanced_accuracy_score, mean_squared_error, r2_score"
   ]
  },
  {
   "cell_type": "code",
   "execution_count": 2,
   "id": "74e0d4e6",
   "metadata": {},
   "outputs": [],
   "source": [
    "# which datasets to read and write\n",
    "\n",
    "do_indian_pines = True \n",
    "do_salient_objects = True\n",
    "do_plastic_flakes = True\n",
    "do_soil_moisture = True\n"
   ]
  },
  {
   "cell_type": "markdown",
   "id": "9110b99a",
   "metadata": {},
   "source": [
    "## Define functions"
   ]
  },
  {
   "cell_type": "code",
   "execution_count": 3,
   "id": "cacd65d8",
   "metadata": {},
   "outputs": [],
   "source": [
    "# reward functions\n",
    "\n",
    "def calculate_correlations(data, num_bands_originally, num_bands_kept):\n",
    "    \n",
    "    selected_bands = np.random.randint(0,num_bands_originally,num_bands_kept)\n",
    "    corr_sum = 0\n",
    "    for i in selected_bands:\n",
    "        for j in selected_bands:\n",
    "            \n",
    "            corr_sum += np.abs(pearsonr(data[:, i], \n",
    "                                 data[:, j])[0])\n",
    "            \n",
    "    return corr_sum/(len(selected_bands)**2)\n",
    "\n",
    "\n",
    "def calculate_mutual_infos(data, num_bands_originally, num_bands_kept):\n",
    "    \n",
    "    selected_bands = np.random.randint(0,num_bands_originally,num_bands_kept)\n",
    "    normalized_mutual_info_score_sum = 0\n",
    "    for i in selected_bands:\n",
    "        for j in selected_bands:\n",
    "            \n",
    "            normalized_mutual_info_score_sum += normalized_mutual_info_score(data[:, i],\n",
    "                                                                             data[:, j])\n",
    "            \n",
    "    return normalized_mutual_info_score_sum/(len(selected_bands)**2)\n"
   ]
  },
  {
   "cell_type": "code",
   "execution_count": 4,
   "id": "2c8d6b7e",
   "metadata": {},
   "outputs": [],
   "source": [
    "## dataset loading\n",
    "\n",
    "def load_datasets(Dataset):\n",
    "    \n",
    "    if Dataset == 'SM':\n",
    "        hyper_path = '../data/soil_moisture/hyperspectral_imagery/*npy'\n",
    "        hyper = np.load(glob.glob(hyper_path)[0])\n",
    "        gt_path = '../data/soil_moisture/gt_labels/*npy'\n",
    "        gt = np.load(glob.glob(gt_path)[0])\n",
    "        return hyper, gt\n",
    "    \n",
    "    if Dataset == 'IN':\n",
    "        hyper_path = '../data/indian_pines/hyperspectral_imagery/*npy'\n",
    "        hyper = np.load(glob.glob(hyper_path)[0])\n",
    "        gt_path = '../data/indian_pines/gt_labels/*npy'\n",
    "        gt = np.load(glob.glob(gt_path)[0])\n",
    "        return hyper, gt\n",
    "    \n",
    "    if Dataset == 'SO':\n",
    "        hyper_path = '../data/salient_objects/hyperspectral_imagery/*npy'\n",
    "        gt_path = '../data/salient_objects/gt_labels/*npy'\n",
    "        hypers=[]\n",
    "        gt_labels=[]\n",
    "        for i in range(len(glob.glob(hyper_path))):\n",
    "            hyper = np.load(glob.glob(hyper_path)[i])\n",
    "            hypers.append(hyper)\n",
    "            gt = np.load(glob.glob(gt_path)[i])\n",
    "            gt_labels.append(gt)\n",
    "        return hypers, gt_labels\n",
    "\n",
    "                          \n",
    "    if Dataset == 'PF':\n",
    "        hyper_path = '../data/plastic_flakes/hyperspectral_imagery/*npy'\n",
    "        gt_path = '../data/plastic_flakes/gt_labels/*npy'\n",
    "        hypers=[]\n",
    "        gt_labels=[]\n",
    "        for i in range(len(glob.glob(hyper_path))):\n",
    "            hyper = np.load(glob.glob(hyper_path)[i])\n",
    "            hypers.append(hyper)\n",
    "            gt = np.load(glob.glob(gt_path)[i])\n",
    "            gt_labels.append(gt)\n",
    "        return hypers, gt_labels\n",
    "    \n"
   ]
  },
  {
   "cell_type": "code",
   "execution_count": 5,
   "id": "88ebc51e",
   "metadata": {},
   "outputs": [],
   "source": [
    "def normalize(data, mean, std): \n",
    "    return (data - mean) / std\n",
    "\n",
    "\n",
    "def baseline_supervised_pass(data_fpath, labels_fpath, Dataset, random_subset=False, num_random_bands=15):\n",
    "    \n",
    "    # train val split\n",
    "    data = np.load(data_fpath)\n",
    "    if random_subset:\n",
    "        indices = np.random.randint(0, data.shape[1], num_random_bands)\n",
    "        data = data[:,indices]\n",
    "        \n",
    "    print(data.shape)\n",
    "\n",
    "    labels = np.load(labels_fpath)\n",
    "    \n",
    "    if Dataset == 'SM':\n",
    "\n",
    "        train_images, val_images, train_labels, val_labels = train_test_split(data, \n",
    "                                                                labels, \n",
    "                                                                test_size=0.3, \n",
    "                                                                random_state=42)\n",
    "        \n",
    "        clf = LinearRegression()\n",
    "        \n",
    "        train_mu = np.mean(train_images)\n",
    "        train_std = np.std(train_images)\n",
    "        \n",
    "        train_images = normalize(train_images, train_mu, train_std)\n",
    "        val_images = normalize(val_images, train_mu, train_std)\n",
    "        \n",
    "        clf.fit(train_images, train_labels)\n",
    "        val_predictions = clf.predict(val_images)\n",
    "        mse = mean_squared_error(val_labels, val_predictions)\n",
    "        r2 = r2_score(val_labels, val_predictions)  \n",
    "        \n",
    "        return mse, r2        \n",
    "        \n",
    "    else:\n",
    "        train_images, val_images, train_labels, val_labels = train_test_split(data, \n",
    "                                                                labels, \n",
    "                                                                test_size=0.3, \n",
    "                                                                random_state=42,\n",
    "                                                                stratify = labels)   \n",
    "    \n",
    "        clf = LogisticRegression(multi_class='multinomial')\n",
    "        \n",
    "        train_mu = np.mean(train_images)\n",
    "        train_std = np.std(train_images)\n",
    "        \n",
    "        train_images = normalize(train_images, train_mu, train_std)\n",
    "        val_images = normalize(val_images, train_mu, train_std)    \n",
    "        \n",
    "        clf.fit(train_images, train_labels)\n",
    "        val_predictions = clf.predict(val_images)\n",
    "        acc = accuracy_score(val_labels, val_predictions)        \n",
    "        bac = balanced_accuracy_score(val_labels, val_predictions)\n",
    "        f1 = f1_score(val_labels, val_predictions, average='macro')   \n",
    "        \n",
    "        return acc, bac, f1\n",
    "    "
   ]
  },
  {
   "cell_type": "markdown",
   "id": "548f591e",
   "metadata": {},
   "source": [
    "## Soil moisture dataset"
   ]
  },
  {
   "cell_type": "code",
   "execution_count": 6,
   "id": "c068cf42",
   "metadata": {},
   "outputs": [
    {
     "name": "stdout",
     "output_type": "stream",
     "text": [
      "\n",
      "Dataset info...\n",
      "The shape of the original imagery: (679, 125)\n",
      "The shape of the original labels: (679,)\n"
     ]
    }
   ],
   "source": [
    "# load data\n",
    "\n",
    "if do_soil_moisture:\n",
    "    \n",
    "    hyper, gt = load_datasets(\n",
    "        'SM')\n",
    "    \n",
    "    print('\\nDataset info...')\n",
    "    print('The shape of the original imagery:', hyper.shape)\n",
    "    print('The shape of the original labels:', gt.shape)\n",
    "    "
   ]
  },
  {
   "cell_type": "code",
   "execution_count": 7,
   "id": "d35dd8ac",
   "metadata": {},
   "outputs": [
    {
     "name": "stdout",
     "output_type": "stream",
     "text": [
      "\n",
      "Correlation reward for random 10 bands, x25 runs: 0.9879893512005363\n",
      "Normalized mutual information reward for random 10 bands, x25 runs: 0.6997309949727508\n"
     ]
    },
    {
     "data": {
      "image/png": "[encoded data removed]",
      "text/plain": [
       "<Figure size 432x288 with 1 Axes>"
      ]
     },
     "metadata": {
      "needs_background": "light"
     },
     "output_type": "display_data"
    },
    {
     "data": {
      "text/plain": [
       "<Figure size 432x288 with 0 Axes>"
      ]
     },
     "metadata": {},
     "output_type": "display_data"
    }
   ],
   "source": [
    "# rewards\n",
    "    \n",
    "if do_soil_moisture:\n",
    "    num_runs = 25\n",
    "    \n",
    "    correlations = []\n",
    "    for i in range(num_runs):\n",
    "        correlations.append(calculate_correlations(hyper, num_bands_originally=hyper.shape[-1], num_bands_kept=10))\n",
    "    print(f'\\nCorrelation reward for random 10 bands, x{num_runs} runs:', np.mean(correlations))\n",
    "    \n",
    "    mis = []\n",
    "    for i in range(num_runs):\n",
    "        mis.append(calculate_mutual_infos(hyper, num_bands_originally=hyper.shape[-1], num_bands_kept=10))\n",
    "    print(f'Normalized mutual information reward for random 10 bands, x{num_runs} runs:', np.mean(mis))\n",
    "    \n",
    "    # plot rewards\n",
    "    a_string = ['pearson correlation (cumulative avg)'] * len(correlations)    \n",
    "    b_string = ['normalized mutual information (cumulative avg)'] * len(mis)\n",
    "    strings = a_string + b_string\n",
    "    pd_df = pd.DataFrame([correlations+mis, strings]).T\n",
    "    pd_df[0] = pd_df[0].astype(float, copy=True)\n",
    "    sns.histplot(data=pd_df, binwidth=0.008, x=0, hue=1, kde=True)\n",
    "    plt.title(f'Test', fontsize=17)\n",
    "    #plt.xlim([0,1])\n",
    "    plt.show()\n",
    "    plt.figure()"
   ]
  },
  {
   "cell_type": "code",
   "execution_count": 18,
   "id": "6e5f587d",
   "metadata": {},
   "outputs": [
    {
     "name": "stdout",
     "output_type": "stream",
     "text": [
      "Baseline model performance with all bands...\n",
      "(679, 125)\n",
      "Validation MSE: 2.207357810591\n",
      "Validation r2: 0.8435700700571795\n",
      "\n",
      "Baseline model performance with 10 band random subset...\n",
      "(679, 10)\n",
      "Validation MSE: 2.7056095286745245\n",
      "Validation r2: 0.8082602163580062\n"
     ]
    }
   ],
   "source": [
    "# baseline models \n",
    "\n",
    "data_fpath = '../data/soil_moisture/hyperspectral_imagery/soil_moisture_hyper.npy'\n",
    "labels_fpath = '../data/soil_moisture/gt_labels/soil_moisture_gt.npy'\n",
    "\n",
    "# model with all bands included\n",
    "print(f'Baseline model performance with all bands...')\n",
    "mse, r2 = baseline_supervised_pass(data_fpath, labels_fpath, 'SM')\n",
    "print(f'Validation MSE: {mse}')\n",
    "print(f'Validation r2: {r2}')\n",
    "\n",
    "# model with random bands\n",
    "print(f'\\nBaseline model performance with {10} band random subset...')\n",
    "\n",
    "mse, r2 = baseline_supervised_pass(data_fpath, labels_fpath, 'SM', True, 10)\n",
    "print(f'Validation MSE: {mse}')\n",
    "print(f'Validation r2: {r2}')"
   ]
  },
  {
   "cell_type": "markdown",
   "id": "d508ef4d",
   "metadata": {},
   "source": [
    "## Indian Pines dataset"
   ]
  },
  {
   "cell_type": "code",
   "execution_count": 9,
   "id": "5bc5717e",
   "metadata": {},
   "outputs": [
    {
     "name": "stdout",
     "output_type": "stream",
     "text": [
      "\n",
      "Dataset info...\n",
      "The shape of the original imagery: (10249, 200)\n",
      "The shape of the original labels: (10249,)\n"
     ]
    }
   ],
   "source": [
    "# load data\n",
    "\n",
    "if do_indian_pines:\n",
    "    \n",
    "    hyper, gt = load_datasets(\n",
    "        'IN')\n",
    "    \n",
    "    print('\\nDataset info...')\n",
    "    print('The shape of the original imagery:', hyper.shape)\n",
    "    print('The shape of the original labels:', gt.shape)\n",
    "    "
   ]
  },
  {
   "cell_type": "code",
   "execution_count": 10,
   "id": "4d3a5cbc",
   "metadata": {},
   "outputs": [
    {
     "name": "stdout",
     "output_type": "stream",
     "text": [
      "\n",
      "Correlation reward for random 10 bands, x25 runs: 0.5843126984832392\n",
      "Normalized mutual information reward for random 10 bands, x25 runs: 0.32691584494882764\n"
     ]
    },
    {
     "data": {
      "image/png": "[encoded data removed]",
      "text/plain": [
       "<Figure size 432x288 with 1 Axes>"
      ]
     },
     "metadata": {
      "needs_background": "light"
     },
     "output_type": "display_data"
    },
    {
     "data": {
      "text/plain": [
       "<Figure size 432x288 with 0 Axes>"
      ]
     },
     "metadata": {},
     "output_type": "display_data"
    }
   ],
   "source": [
    "# rewards\n",
    "    \n",
    "if do_indian_pines:\n",
    "    num_runs = 25\n",
    "    \n",
    "    correlations = []\n",
    "    for i in range(num_runs):\n",
    "        correlations.append(calculate_correlations(hyper, num_bands_originally=hyper.shape[-1], num_bands_kept=10))\n",
    "    print(f'\\nCorrelation reward for random 10 bands, x{num_runs} runs:', np.mean(correlations))\n",
    "    \n",
    "    mis = []\n",
    "    for i in range(num_runs):\n",
    "        mis.append(calculate_mutual_infos(hyper, num_bands_originally=hyper.shape[-1], num_bands_kept=10))\n",
    "    print(f'Normalized mutual information reward for random 10 bands, x{num_runs} runs:', np.mean(mis))\n",
    "    \n",
    "    # plot rewards\n",
    "    a_string = ['pearson correlation (cumulative avg)'] * len(correlations)    \n",
    "    b_string = ['normalized mutual information (cumulative avg)'] * len(mis)\n",
    "    strings = a_string + b_string\n",
    "    pd_df = pd.DataFrame([correlations+mis, strings]).T\n",
    "    pd_df[0] = pd_df[0].astype(float, copy=True)\n",
    "    sns.histplot(data=pd_df, bins=20, x=0, hue=1, kde=True)\n",
    "    plt.title(f'Test', fontsize=17)\n",
    "    #plt.xlim([0,1])\n",
    "    plt.show()\n",
    "    plt.figure()"
   ]
  },
  {
   "cell_type": "code",
   "execution_count": 19,
   "id": "18f99918",
   "metadata": {},
   "outputs": [
    {
     "name": "stdout",
     "output_type": "stream",
     "text": [
      "Baseline model performance with all bands...\n",
      "(10249, 200)\n"
     ]
    },
    {
     "name": "stderr",
     "output_type": "stream",
     "text": [
      "/Users/danielfurman/opt/anaconda3/lib/python3.8/site-packages/sklearn/linear_model/_logistic.py:814: ConvergenceWarning: lbfgs failed to converge (status=1):\n",
      "STOP: TOTAL NO. of ITERATIONS REACHED LIMIT.\n",
      "\n",
      "Increase the number of iterations (max_iter) or scale the data as shown in:\n",
      "    https://scikit-learn.org/stable/modules/preprocessing.html\n",
      "Please also refer to the documentation for alternative solver options:\n",
      "    https://scikit-learn.org/stable/modules/linear_model.html#logistic-regression\n",
      "  n_iter_i = _check_optimize_result(\n"
     ]
    },
    {
     "name": "stdout",
     "output_type": "stream",
     "text": [
      "Validation Accuracy: 0.26504065040650404\n",
      "Validation Balanced Accuracy: 0.08574691943516832\n",
      "Validation Macro Averaged F1 Score: 0.06477141245017229\n",
      "\n",
      "Baseline model performance with 10 band random subset...\n",
      "(10249, 10)\n",
      "Validation Accuracy: 0.2461788617886179\n",
      "Validation Balanced Accuracy: 0.07141151491002719\n",
      "Validation Macro Averaged F1 Score: 0.043404820975864615\n"
     ]
    },
    {
     "name": "stderr",
     "output_type": "stream",
     "text": [
      "/Users/danielfurman/opt/anaconda3/lib/python3.8/site-packages/sklearn/linear_model/_logistic.py:814: ConvergenceWarning: lbfgs failed to converge (status=1):\n",
      "STOP: TOTAL NO. of ITERATIONS REACHED LIMIT.\n",
      "\n",
      "Increase the number of iterations (max_iter) or scale the data as shown in:\n",
      "    https://scikit-learn.org/stable/modules/preprocessing.html\n",
      "Please also refer to the documentation for alternative solver options:\n",
      "    https://scikit-learn.org/stable/modules/linear_model.html#logistic-regression\n",
      "  n_iter_i = _check_optimize_result(\n"
     ]
    }
   ],
   "source": [
    "# baseline models\n",
    "\n",
    "data_fpath = '../data/indian_pines/hyperspectral_imagery/indian_pines_corrected.npy'\n",
    "labels_fpath = '../data/indian_pines/gt_labels/indian_pines_gt.npy'\n",
    "\n",
    "# model with all bands included\n",
    "print(f'Baseline model performance with all bands...')\n",
    "acc, bac, f1 = baseline_supervised_pass(data_fpath, labels_fpath, 'IN')\n",
    "print(f'Validation Accuracy: {acc}')\n",
    "print(f'Validation Balanced Accuracy: {bac}')\n",
    "print(f'Validation Macro Averaged F1 Score: {f1}')\n",
    "\n",
    "# model with random bands\n",
    "print(f'\\nBaseline model performance with {10} band random subset...')\n",
    "acc, bac, f1 = baseline_supervised_pass(data_fpath, labels_fpath, 'IN', True, 10)\n",
    "print(f'Validation Accuracy: {acc}')\n",
    "print(f'Validation Balanced Accuracy: {bac}')\n",
    "print(f'Validation Macro Averaged F1 Score: {f1}')"
   ]
  },
  {
   "cell_type": "markdown",
   "id": "978c3cd0",
   "metadata": {},
   "source": [
    "## Plastic flakes dataset"
   ]
  },
  {
   "cell_type": "code",
   "execution_count": 12,
   "id": "06f64bcf",
   "metadata": {},
   "outputs": [
    {
     "name": "stdout",
     "output_type": "stream",
     "text": [
      "\n",
      "Dataset info...\n",
      "The shape of the original imagery: (11, 112128, 224)\n",
      "The shape of the original labels: (11, 112128)\n",
      "The shape of the vertically stacked images: (1233408, 224)\n",
      "The shape of the vertically stacked images: (1233408,)\n"
     ]
    }
   ],
   "source": [
    "# stacks all images vertically\n",
    "\n",
    "# load data\n",
    "\n",
    "if do_plastic_flakes:\n",
    "    \n",
    "    hyper, gt = load_datasets(\n",
    "        'PF')\n",
    "    \n",
    "    hyper, gt = np.array(hyper), np.array(gt)\n",
    "    \n",
    "    hyper_multiple = np.empty([hyper.shape[0]*hyper.shape[1], hyper.shape[-1]])\n",
    "    gt_multiple = np.empty([gt.shape[0]*gt.shape[1]])\n",
    "    \n",
    "    print('\\nDataset info...')\n",
    "    print('The shape of the original imagery:', hyper.shape)\n",
    "    print('The shape of the original labels:', gt.shape)\n",
    "    \n",
    "    for i in range(hyper.shape[0]):\n",
    "        hyper_multiple[i*hyper.shape[1]:(i+1)*hyper.shape[1] , :] = hyper[i, :, :]\n",
    "        gt_multiple[i*hyper.shape[1]:(i+1)*hyper.shape[1]] = gt[i, :]\n",
    "\n",
    "    print('The shape of the vertically stacked images:', hyper_multiple.shape)\n",
    "    print('The shape of the vertically stacked images:', gt_multiple.shape)    \n"
   ]
  },
  {
   "cell_type": "code",
   "execution_count": 13,
   "id": "7bf8dd6e",
   "metadata": {},
   "outputs": [
    {
     "name": "stdout",
     "output_type": "stream",
     "text": [
      "The shape of the sub-sampled vertically stacked images: (61670, 224)\n",
      "\n",
      "Correlation reward for random 10 bands, x25 runs: 0.9652192025157695\n",
      "Normalized mutual information reward for random 10 bands, x25 runs: 0.6508206817635519\n"
     ]
    },
    {
     "data": {
      "image/png": "[encoded data removed]",
      "text/plain": [
       "<Figure size 432x288 with 1 Axes>"
      ]
     },
     "metadata": {
      "needs_background": "light"
     },
     "output_type": "display_data"
    },
    {
     "data": {
      "text/plain": [
       "<Figure size 432x288 with 0 Axes>"
      ]
     },
     "metadata": {},
     "output_type": "display_data"
    }
   ],
   "source": [
    "# rewards\n",
    "    \n",
    "if do_plastic_flakes:\n",
    "    \n",
    "    num_runs = 25\n",
    "    \n",
    "    # randomly sample hyper_multiple for 5% of the pixels\n",
    "    indices = np.random.randint(0, hyper_multiple.shape[0], int(hyper_multiple.shape[0]*0.05))\n",
    "    hyper_multiple = hyper_multiple[indices, :]\n",
    "    print('The shape of the sub-sampled vertically stacked images:', hyper_multiple.shape)\n",
    "    \n",
    "    correlations = []\n",
    "    for i in range(num_runs):\n",
    "        correlations.append(calculate_correlations(hyper_multiple, num_bands_originally=hyper_multiple.shape[-1], num_bands_kept=10))\n",
    "    print(f'\\nCorrelation reward for random 10 bands, x{num_runs} runs:', np.mean(correlations))\n",
    "    \n",
    "    mis = []\n",
    "    for i in range(num_runs):\n",
    "        mis.append(calculate_mutual_infos(hyper_multiple, num_bands_originally=hyper_multiple.shape[-1], num_bands_kept=10))\n",
    "    print(f'Normalized mutual information reward for random 10 bands, x{num_runs} runs:', np.mean(mis))\n",
    "    \n",
    "    # plot rewards\n",
    "    a_string = ['pearson correlation (cumulative avg)'] * len(correlations)    \n",
    "    b_string = ['normalized mutual information (cumulative avg)'] * len(mis)\n",
    "    strings = a_string + b_string\n",
    "    pd_df = pd.DataFrame([correlations+mis, strings]).T\n",
    "    pd_df[0] = pd_df[0].astype(float, copy=True)\n",
    "    sns.histplot(data=pd_df, bins=15, x=0, hue=1, kde=True)\n",
    "    plt.title(f'Test', fontsize=17)\n",
    "    #plt.xlim([0,1])\n",
    "    plt.show()\n",
    "    plt.figure()"
   ]
  },
  {
   "cell_type": "code",
   "execution_count": 20,
   "id": "394ce5bc",
   "metadata": {},
   "outputs": [
    {
     "name": "stdout",
     "output_type": "stream",
     "text": [
      "Baseline model performance with all bands...\n",
      "(112128, 224)\n"
     ]
    },
    {
     "name": "stderr",
     "output_type": "stream",
     "text": [
      "/Users/danielfurman/opt/anaconda3/lib/python3.8/site-packages/sklearn/linear_model/_logistic.py:814: ConvergenceWarning: lbfgs failed to converge (status=1):\n",
      "STOP: TOTAL NO. of ITERATIONS REACHED LIMIT.\n",
      "\n",
      "Increase the number of iterations (max_iter) or scale the data as shown in:\n",
      "    https://scikit-learn.org/stable/modules/preprocessing.html\n",
      "Please also refer to the documentation for alternative solver options:\n",
      "    https://scikit-learn.org/stable/modules/linear_model.html#logistic-regression\n",
      "  n_iter_i = _check_optimize_result(\n"
     ]
    },
    {
     "name": "stdout",
     "output_type": "stream",
     "text": [
      "Validation Accuracy: 0.994559885846785\n",
      "Validation Balanced Accuracy: 0.9903719560278963\n",
      "Validation Macro Averaged F1 Score: 0.9898997391995994\n",
      "\n",
      "Baseline model performance with 10 band random subset...\n",
      "(112128, 10)\n",
      "Validation Accuracy: 0.9692618686643479\n",
      "Validation Balanced Accuracy: 0.9354584229488436\n",
      "Validation Macro Averaged F1 Score: 0.9350774613096244\n"
     ]
    },
    {
     "name": "stderr",
     "output_type": "stream",
     "text": [
      "/Users/danielfurman/opt/anaconda3/lib/python3.8/site-packages/sklearn/linear_model/_logistic.py:814: ConvergenceWarning: lbfgs failed to converge (status=1):\n",
      "STOP: TOTAL NO. of ITERATIONS REACHED LIMIT.\n",
      "\n",
      "Increase the number of iterations (max_iter) or scale the data as shown in:\n",
      "    https://scikit-learn.org/stable/modules/preprocessing.html\n",
      "Please also refer to the documentation for alternative solver options:\n",
      "    https://scikit-learn.org/stable/modules/linear_model.html#logistic-regression\n",
      "  n_iter_i = _check_optimize_result(\n"
     ]
    }
   ],
   "source": [
    "# baseline models\n",
    "\n",
    "data_fpath = '../data/plastic_flakes/hyperspectral_imagery/try_0_1.npy'\n",
    "labels_fpath = '../data/plastic_flakes/gt_labels/try_0_1.npy'\n",
    "\n",
    "# model with all bands included\n",
    "print(f'Baseline model performance with all bands...')\n",
    "acc, bac, f1 = baseline_supervised_pass(data_fpath, labels_fpath, 'IN')\n",
    "print(f'Validation Accuracy: {acc}')\n",
    "print(f'Validation Balanced Accuracy: {bac}')\n",
    "print(f'Validation Macro Averaged F1 Score: {f1}')\n",
    "\n",
    "# model with random bands\n",
    "print(f'\\nBaseline model performance with {10} band random subset...')\n",
    "acc, bac, f1 = baseline_supervised_pass(data_fpath, labels_fpath, 'IN', True, 10)\n",
    "print(f'Validation Accuracy: {acc}')\n",
    "print(f'Validation Balanced Accuracy: {bac}')\n",
    "print(f'Validation Macro Averaged F1 Score: {f1}')"
   ]
  },
  {
   "cell_type": "markdown",
   "id": "72b213af",
   "metadata": {},
   "source": [
    "## Salient objects dataset"
   ]
  },
  {
   "cell_type": "code",
   "execution_count": 15,
   "id": "a5364f7b",
   "metadata": {},
   "outputs": [
    {
     "name": "stdout",
     "output_type": "stream",
     "text": [
      "\n",
      "Dataset info...\n",
      "The shape of the original imagery: (60, 786432, 81)\n",
      "The shape of the original labels: (60, 786432)\n",
      "\n",
      "Dataset info...\n",
      "The shape of the vertically stacked images: (47185920, 81)\n",
      "The shape of the vertically stacked images: (47185920,)\n"
     ]
    }
   ],
   "source": [
    "# stacks all images vertically\n",
    "\n",
    "# load data\n",
    "\n",
    "if do_salient_objects:\n",
    "    \n",
    "    hyper, gt = load_datasets(\n",
    "        'SO')\n",
    "    \n",
    "    hyper, gt = np.array(hyper), np.array(gt)\n",
    "    \n",
    "    hyper_multiple = np.empty([hyper.shape[0]*hyper.shape[1], hyper.shape[-1]])\n",
    "    gt_multiple = np.empty([gt.shape[0]*gt.shape[1]])\n",
    "    \n",
    "    print('\\nDataset info...')\n",
    "    print('The shape of the original imagery:', hyper.shape)\n",
    "    print('The shape of the original labels:', gt.shape)\n",
    "    \n",
    "    for i in range(hyper.shape[0]):\n",
    "        hyper_multiple[i*hyper.shape[1]:(i+1)*hyper.shape[1] , :] = hyper[i, :, :]\n",
    "        gt_multiple[i*hyper.shape[1]:(i+1)*hyper.shape[1]] = gt[i, :]\n",
    "\n",
    "    print('\\nDataset info...')\n",
    "    print('The shape of the vertically stacked images:', hyper_multiple.shape)\n",
    "    print('The shape of the vertically stacked images:', gt_multiple.shape)    \n"
   ]
  },
  {
   "cell_type": "code",
   "execution_count": 16,
   "id": "20d99755",
   "metadata": {},
   "outputs": [
    {
     "name": "stdout",
     "output_type": "stream",
     "text": [
      "The shape of the sub-sampled vertically stacked images: (471859, 81)\n",
      "\n",
      "Correlation reward for random 10 bands, x25 runs: 0.18384751598984841\n",
      "Normalized mutual information reward for random 10 bands, x25 runs: 0.18772456190292555\n"
     ]
    },
    {
     "data": {
      "image/png": "[encoded data removed]",
      "text/plain": [
       "<Figure size 432x288 with 1 Axes>"
      ]
     },
     "metadata": {
      "needs_background": "light"
     },
     "output_type": "display_data"
    },
    {
     "data": {
      "text/plain": [
       "<Figure size 432x288 with 0 Axes>"
      ]
     },
     "metadata": {},
     "output_type": "display_data"
    }
   ],
   "source": [
    "# rewards\n",
    "    \n",
    "if do_salient_objects:\n",
    "    \n",
    "    num_runs = 25\n",
    "    \n",
    "    # randomly sample hyper_multiple for 1% of the pixels\n",
    "    indices = np.random.randint(0, hyper_multiple.shape[0], int(hyper_multiple.shape[0]*0.01))\n",
    "    hyper_multiple = hyper_multiple[indices, :]\n",
    "    print('The shape of the sub-sampled vertically stacked images:', hyper_multiple.shape)\n",
    "    \n",
    "    correlations = []\n",
    "    for i in range(num_runs):\n",
    "        correlations.append(calculate_correlations(hyper_multiple, num_bands_originally=hyper_multiple.shape[-1], num_bands_kept=10))\n",
    "    print(f'\\nCorrelation reward for random 10 bands, x{num_runs} runs:', np.mean(correlations))\n",
    "    \n",
    "    mis = []\n",
    "    for i in range(num_runs):\n",
    "        mis.append(calculate_mutual_infos(hyper_multiple, num_bands_originally=hyper_multiple.shape[-1], num_bands_kept=10))\n",
    "    print(f'Normalized mutual information reward for random 10 bands, x{num_runs} runs:', np.mean(mis))\n",
    "    \n",
    "    # plot rewards\n",
    "    a_string = ['pearson correlation (cumulative avg)'] * len(correlations)    \n",
    "    b_string = ['normalized mutual information (cumulative avg)'] * len(mis)\n",
    "    strings = a_string + b_string\n",
    "    pd_df = pd.DataFrame([correlations+mis, strings]).T\n",
    "    pd_df[0] = pd_df[0].astype(float, copy=True)\n",
    "    sns.histplot(data=pd_df, bins=20, x=0, hue=1, kde=True)\n",
    "    plt.title(f'Test', fontsize=17)\n",
    "    #plt.xlim([0,1])\n",
    "    plt.show()\n",
    "    plt.figure()"
   ]
  },
  {
   "cell_type": "code",
   "execution_count": 21,
   "id": "2e62ae94",
   "metadata": {},
   "outputs": [
    {
     "name": "stdout",
     "output_type": "stream",
     "text": [
      "Baseline model performance with all bands...\n",
      "(786432, 81)\n",
      "Validation Accuracy: 0.9566863052600347\n",
      "Validation Balanced Accuracy: 0.7725735463883276\n",
      "Validation Macro Averaged F1 Score: 0.8022629178927617\n",
      "\n",
      "Baseline model performance with 10 band random subset...\n",
      "(786432, 10)\n",
      "Validation Accuracy: 0.9468444030008901\n",
      "Validation Balanced Accuracy: 0.7045277351952552\n",
      "Validation Macro Averaged F1 Score: 0.7411503320022699\n"
     ]
    }
   ],
   "source": [
    "# baseline models\n",
    "\n",
    "data_fpath = '../data/salient_objects/hyperspectral_imagery/0001.npy'\n",
    "labels_fpath = '../data/salient_objects/gt_labels/0001.npy'\n",
    "\n",
    "# model with all bands included\n",
    "print(f'Baseline model performance with all bands...')\n",
    "acc, bac, f1 = baseline_supervised_pass(data_fpath, labels_fpath, 'IN')\n",
    "print(f'Validation Accuracy: {acc}')\n",
    "print(f'Validation Balanced Accuracy: {bac}')\n",
    "print(f'Validation Macro Averaged F1 Score: {f1}')\n",
    "\n",
    "# model with random bands\n",
    "print(f'\\nBaseline model performance with {10} band random subset...')\n",
    "acc, bac, f1 = baseline_supervised_pass(data_fpath, labels_fpath, 'IN', True, 10)\n",
    "print(f'Validation Accuracy: {acc}')\n",
    "print(f'Validation Balanced Accuracy: {bac}')\n",
    "print(f'Validation Macro Averaged F1 Score: {f1}')"
   ]
  },
  {
   "cell_type": "code",
   "execution_count": null,
   "id": "0ca19147",
   "metadata": {},
   "outputs": [],
   "source": []
  }
 ],
 "metadata": {
  "kernelspec": {
   "display_name": "Python 3.8.8 64-bit ('base': conda)",
   "language": "python",
   "name": "python388jvsc74a57bd0301faebbd5cea7fd4466786a19f1bea9d8baf657aaca95ef39840c46b8697603"
  },
  "language_info": {
   "codemirror_mode": {
    "name": "ipython",
    "version": 3
   },
   "file_extension": ".py",
   "mimetype": "text/x-python",
   "name": "python",
   "nbconvert_exporter": "python",
   "pygments_lexer": "ipython3",
   "version": "3.8.8"
  }
 },
 "nbformat": 4,
 "nbformat_minor": 5
}
