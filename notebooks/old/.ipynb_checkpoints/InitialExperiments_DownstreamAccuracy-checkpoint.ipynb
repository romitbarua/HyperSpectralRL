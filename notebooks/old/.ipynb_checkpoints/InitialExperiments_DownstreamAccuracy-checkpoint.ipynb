{
 "cells": [
  {
   "cell_type": "code",
   "execution_count": 2,
   "id": "9d36d722",
   "metadata": {},
   "outputs": [],
   "source": [
    "from sklearn.linear_model import LogisticRegression\n",
    "import scipy.io\n",
    "import numpy as np\n",
    "import h5py\n",
    "from sklearn.datasets import make_classification\n",
    "from sklearn.metrics import accuracy_score\n",
    "import seaborn as sns\n",
    "import matplotlib.pyplot as plt\n",
    "from sklearn.neighbors import KNeighborsClassifier\n",
    "import pandas as pd\n",
    "from sklearn.ensemble import RandomForestClassifier"
   ]
  },
  {
   "cell_type": "markdown",
   "id": "823c2f42",
   "metadata": {},
   "source": [
    "# Load Data"
   ]
  },
  {
   "cell_type": "code",
   "execution_count": 3,
   "id": "3023d2f1",
   "metadata": {},
   "outputs": [
    {
     "ename": "FileNotFoundError",
     "evalue": "[Errno 2] Unable to open file (unable to open file: name = '../data/DRL4BS_paper_data/data4classification/indian_pines_randomSampling_0.1_run_1.mat', errno = 2, error message = 'No such file or directory', flags = 0, o_flags = 0)",
     "output_type": "error",
     "traceback": [
      "\u001b[0;31m---------------------------------------------------------------------------\u001b[0m",
      "\u001b[0;31mFileNotFoundError\u001b[0m                         Traceback (most recent call last)",
      "Input \u001b[0;32mIn [3]\u001b[0m, in \u001b[0;36m<cell line: 4>\u001b[0;34m()\u001b[0m\n\u001b[1;32m      2\u001b[0m dataset \u001b[38;5;241m=\u001b[39m \u001b[38;5;124m'\u001b[39m\u001b[38;5;124mIndianPines\u001b[39m\u001b[38;5;124m'\u001b[39m\n\u001b[1;32m      4\u001b[0m \u001b[38;5;28;01mif\u001b[39;00m dataset \u001b[38;5;241m==\u001b[39m \u001b[38;5;124m'\u001b[39m\u001b[38;5;124mIndianPines\u001b[39m\u001b[38;5;124m'\u001b[39m:\n\u001b[0;32m----> 5\u001b[0m     data \u001b[38;5;241m=\u001b[39m \u001b[43mh5py\u001b[49m\u001b[38;5;241;43m.\u001b[39;49m\u001b[43mFile\u001b[49m\u001b[43m(\u001b[49m\u001b[38;5;124;43m'\u001b[39;49m\u001b[38;5;124;43m../data/DRL4BS_paper_data/data4classification/indian_pines_randomSampling_0.1_run_1.mat\u001b[39;49m\u001b[38;5;124;43m'\u001b[39;49m\u001b[43m,\u001b[49m\u001b[43m \u001b[49m\u001b[38;5;124;43m'\u001b[39;49m\u001b[38;5;124;43mr\u001b[39;49m\u001b[38;5;124;43m'\u001b[39;49m\u001b[43m)\u001b[49m\n\u001b[1;32m      6\u001b[0m     selected_bands \u001b[38;5;241m=\u001b[39m scipy\u001b[38;5;241m.\u001b[39mio\u001b[38;5;241m.\u001b[39mloadmat(\u001b[38;5;124m'\u001b[39m\u001b[38;5;124m../data/DRL4BS_paper_data/results/drl_30_bands_indian_pines.mat\u001b[39m\u001b[38;5;124m'\u001b[39m)\n\u001b[1;32m      7\u001b[0m \u001b[38;5;28;01melif\u001b[39;00m dataset \u001b[38;5;241m==\u001b[39m \u001b[38;5;124m'\u001b[39m\u001b[38;5;124mBotswana\u001b[39m\u001b[38;5;124m'\u001b[39m:\n",
      "File \u001b[0;32m~/opt/anaconda3/lib/python3.8/site-packages/h5py/_hl/files.py:533\u001b[0m, in \u001b[0;36mFile.__init__\u001b[0;34m(self, name, mode, driver, libver, userblock_size, swmr, rdcc_nslots, rdcc_nbytes, rdcc_w0, track_order, fs_strategy, fs_persist, fs_threshold, fs_page_size, page_buf_size, min_meta_keep, min_raw_keep, locking, alignment_threshold, alignment_interval, **kwds)\u001b[0m\n\u001b[1;32m    525\u001b[0m     fapl \u001b[38;5;241m=\u001b[39m make_fapl(driver, libver, rdcc_nslots, rdcc_nbytes, rdcc_w0,\n\u001b[1;32m    526\u001b[0m                      locking, page_buf_size, min_meta_keep, min_raw_keep,\n\u001b[1;32m    527\u001b[0m                      alignment_threshold\u001b[38;5;241m=\u001b[39malignment_threshold,\n\u001b[1;32m    528\u001b[0m                      alignment_interval\u001b[38;5;241m=\u001b[39malignment_interval,\n\u001b[1;32m    529\u001b[0m                      \u001b[38;5;241m*\u001b[39m\u001b[38;5;241m*\u001b[39mkwds)\n\u001b[1;32m    530\u001b[0m     fcpl \u001b[38;5;241m=\u001b[39m make_fcpl(track_order\u001b[38;5;241m=\u001b[39mtrack_order, fs_strategy\u001b[38;5;241m=\u001b[39mfs_strategy,\n\u001b[1;32m    531\u001b[0m                      fs_persist\u001b[38;5;241m=\u001b[39mfs_persist, fs_threshold\u001b[38;5;241m=\u001b[39mfs_threshold,\n\u001b[1;32m    532\u001b[0m                      fs_page_size\u001b[38;5;241m=\u001b[39mfs_page_size)\n\u001b[0;32m--> 533\u001b[0m     fid \u001b[38;5;241m=\u001b[39m \u001b[43mmake_fid\u001b[49m\u001b[43m(\u001b[49m\u001b[43mname\u001b[49m\u001b[43m,\u001b[49m\u001b[43m \u001b[49m\u001b[43mmode\u001b[49m\u001b[43m,\u001b[49m\u001b[43m \u001b[49m\u001b[43muserblock_size\u001b[49m\u001b[43m,\u001b[49m\u001b[43m \u001b[49m\u001b[43mfapl\u001b[49m\u001b[43m,\u001b[49m\u001b[43m \u001b[49m\u001b[43mfcpl\u001b[49m\u001b[43m,\u001b[49m\u001b[43m \u001b[49m\u001b[43mswmr\u001b[49m\u001b[38;5;241;43m=\u001b[39;49m\u001b[43mswmr\u001b[49m\u001b[43m)\u001b[49m\n\u001b[1;32m    535\u001b[0m \u001b[38;5;28;01mif\u001b[39;00m \u001b[38;5;28misinstance\u001b[39m(libver, \u001b[38;5;28mtuple\u001b[39m):\n\u001b[1;32m    536\u001b[0m     \u001b[38;5;28mself\u001b[39m\u001b[38;5;241m.\u001b[39m_libver \u001b[38;5;241m=\u001b[39m libver\n",
      "File \u001b[0;32m~/opt/anaconda3/lib/python3.8/site-packages/h5py/_hl/files.py:226\u001b[0m, in \u001b[0;36mmake_fid\u001b[0;34m(name, mode, userblock_size, fapl, fcpl, swmr)\u001b[0m\n\u001b[1;32m    224\u001b[0m     \u001b[38;5;28;01mif\u001b[39;00m swmr \u001b[38;5;129;01mand\u001b[39;00m swmr_support:\n\u001b[1;32m    225\u001b[0m         flags \u001b[38;5;241m|\u001b[39m\u001b[38;5;241m=\u001b[39m h5f\u001b[38;5;241m.\u001b[39mACC_SWMR_READ\n\u001b[0;32m--> 226\u001b[0m     fid \u001b[38;5;241m=\u001b[39m \u001b[43mh5f\u001b[49m\u001b[38;5;241;43m.\u001b[39;49m\u001b[43mopen\u001b[49m\u001b[43m(\u001b[49m\u001b[43mname\u001b[49m\u001b[43m,\u001b[49m\u001b[43m \u001b[49m\u001b[43mflags\u001b[49m\u001b[43m,\u001b[49m\u001b[43m \u001b[49m\u001b[43mfapl\u001b[49m\u001b[38;5;241;43m=\u001b[39;49m\u001b[43mfapl\u001b[49m\u001b[43m)\u001b[49m\n\u001b[1;32m    227\u001b[0m \u001b[38;5;28;01melif\u001b[39;00m mode \u001b[38;5;241m==\u001b[39m \u001b[38;5;124m'\u001b[39m\u001b[38;5;124mr+\u001b[39m\u001b[38;5;124m'\u001b[39m:\n\u001b[1;32m    228\u001b[0m     fid \u001b[38;5;241m=\u001b[39m h5f\u001b[38;5;241m.\u001b[39mopen(name, h5f\u001b[38;5;241m.\u001b[39mACC_RDWR, fapl\u001b[38;5;241m=\u001b[39mfapl)\n",
      "File \u001b[0;32mh5py/_objects.pyx:54\u001b[0m, in \u001b[0;36mh5py._objects.with_phil.wrapper\u001b[0;34m()\u001b[0m\n",
      "File \u001b[0;32mh5py/_objects.pyx:55\u001b[0m, in \u001b[0;36mh5py._objects.with_phil.wrapper\u001b[0;34m()\u001b[0m\n",
      "File \u001b[0;32mh5py/h5f.pyx:106\u001b[0m, in \u001b[0;36mh5py.h5f.open\u001b[0;34m()\u001b[0m\n",
      "\u001b[0;31mFileNotFoundError\u001b[0m: [Errno 2] Unable to open file (unable to open file: name = '../data/DRL4BS_paper_data/data4classification/indian_pines_randomSampling_0.1_run_1.mat', errno = 2, error message = 'No such file or directory', flags = 0, o_flags = 0)"
     ]
    }
   ],
   "source": [
    "#load data\n",
    "dataset = 'IndianPines'\n",
    "\n",
    "if dataset == 'IndianPines':\n",
    "    data = h5py.File('../data/DRL4BS_paper_data/data4classification/indian_pines_randomSampling_0.1_run_1.mat', 'r')\n",
    "    selected_bands = scipy.io.loadmat('../data/DRL4BS_paper_data/results/drl_30_bands_indian_pines.mat')\n",
    "elif dataset == 'Botswana':\n",
    "    data = scipy.io.loadmat('../data/DRL4BS_paper_data/data4classification/botswana_randomSampling_0.1_run_1.mat')\n",
    "    selected_bands = scipy.io.loadmat('../data/DRL4BS_paper_data/results/drl_30_bands_botswana.mat')\n",
    "    "
   ]
  },
  {
   "cell_type": "code",
   "execution_count": null,
   "id": "11ddb266",
   "metadata": {},
   "outputs": [],
   "source": [
    "if dataset == 'IndianPines':\n",
    "    x_train = np.array(data['x_tra']).transpose()\n",
    "    y_train = np.argmax(np.array(data['y_tra']).transpose(), axis=1)\n",
    "    x_test = np.array(data['x_test']).transpose()\n",
    "    y_test = np.argmax(np.array(data['y_test']).transpose(), axis=1)\n",
    "\n",
    "elif dataset == 'Botswana':\n",
    "    x_train = np.array(data['x_tra'])\n",
    "    y_train = np.argmax(np.array(data['y_tra']), axis=1)\n",
    "    x_test = np.array(data['x_test'])\n",
    "    y_test = np.argmax(np.array(data['y_test']), axis=1)\n",
    "        \n",
    "selected_bands = selected_bands['selected_bands'][0].astype(int)"
   ]
  },
  {
   "cell_type": "code",
   "execution_count": null,
   "id": "542d95a1",
   "metadata": {},
   "outputs": [],
   "source": [
    "def runEvalModel(x_train, y_train, x_test, y_test):\n",
    "    \n",
    "    model = LogisticRegression(multi_class='multinomial')\n",
    "    #model = KNeighborsClassifier()\n",
    "    #model = RandomForestClassifier()\n",
    "    model.fit(x_train, y_train)\n",
    "    \n",
    "    pred = model.predict(x_test)\n",
    "    accuracy = accuracy_score(y_true=y_test, y_pred=pred)\n",
    "    \n",
    "    return accuracy\n",
    "    \n",
    "    "
   ]
  },
  {
   "cell_type": "code",
   "execution_count": null,
   "id": "37257405",
   "metadata": {},
   "outputs": [],
   "source": [
    "y_test.shape"
   ]
  },
  {
   "cell_type": "code",
   "execution_count": null,
   "id": "9563c899",
   "metadata": {},
   "outputs": [],
   "source": [
    "#running the model using all available bands\n",
    "print(runEvalModel(x_test, y_test, x_train, y_train))"
   ]
  },
  {
   "cell_type": "code",
   "execution_count": null,
   "id": "fb5f8dc8",
   "metadata": {},
   "outputs": [],
   "source": [
    "selected_bands"
   ]
  },
  {
   "cell_type": "code",
   "execution_count": null,
   "id": "6375e5d0",
   "metadata": {},
   "outputs": [],
   "source": [
    "#running the model using researchers selected bands\n",
    "x_train_researchers_bands = x_train[:, selected_bands]\n",
    "x_test_researchers_band = x_test[:, selected_bands]\n",
    "print(runEvalModel(x_test_researchers_band, y_test, x_train_researchers_bands, y_train, ))"
   ]
  },
  {
   "cell_type": "code",
   "execution_count": null,
   "id": "6f331798",
   "metadata": {},
   "outputs": [],
   "source": [
    "#random selection\n",
    "acc = []\n",
    "available_bands = np.arange(0, x_train.shape[1], 1)\n",
    "iterations = 200\n",
    "for i in range(iterations):\n",
    "    \n",
    "    sample_bands = np.random.choice(available_bands, 30, replace=False)\n",
    "    \n",
    "    x_train_random_bands = x_train[:, sample_bands]\n",
    "    x_test_random_bands = x_test[:, sample_bands]\n",
    "    acc.append(runEvalModel(x_test_random_bands, y_test, x_train_random_bands, y_train, ))"
   ]
  },
  {
   "cell_type": "code",
   "execution_count": null,
   "id": "e4b6c3ed",
   "metadata": {},
   "outputs": [],
   "source": [
    "mean_acc = np.mean(acc)\n",
    "\n",
    "sns.histplot(acc)\n",
    "plt.axvline(mean_acc, label=f'Mean: {mean_acc:.6f}')\n",
    "plt.title('Distribution of Randomly Sampled Bands')\n",
    "plt.legend()\n",
    "plt.show()"
   ]
  },
  {
   "cell_type": "code",
   "execution_count": null,
   "id": "204c0052",
   "metadata": {},
   "outputs": [],
   "source": [
    "# For indian pines flipped test/train:\n",
    "# mean acc for random is 0.51 with logistic reg, acc for researcer bands is 0.53 with logistic regression\n",
    "# basically a 2 pp difference"
   ]
  }
 ],
 "metadata": {
  "interpreter": {
   "hash": "861578ed33d6db9f6e43f823b7375518afe7ad493904df3978bbfc03bb4b0487"
  },
  "kernelspec": {
   "display_name": "Python 3 (ipykernel)",
   "language": "python",
   "name": "python3"
  },
  "language_info": {
   "codemirror_mode": {
    "name": "ipython",
    "version": 3
   },
   "file_extension": ".py",
   "mimetype": "text/x-python",
   "name": "python",
   "nbconvert_exporter": "python",
   "pygments_lexer": "ipython3",
   "version": "3.8.8"
  }
 },
 "nbformat": 4,
 "nbformat_minor": 5
}
