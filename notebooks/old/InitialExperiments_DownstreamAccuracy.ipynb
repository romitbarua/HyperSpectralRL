{
 "cells": [
  {
   "cell_type": "code",
   "execution_count": 2,
   "id": "9d36d722",
   "metadata": {},
   "outputs": [],
   "source": [
    "from sklearn.linear_model import LogisticRegression\n",
    "import scipy.io\n",
    "import numpy as np\n",
    "import h5py\n",
    "from sklearn.datasets import make_classification\n",
    "from sklearn.metrics import accuracy_score\n",
    "import seaborn as sns\n",
    "import matplotlib.pyplot as plt\n",
    "from sklearn.neighbors import KNeighborsClassifier\n",
    "import pandas as pd\n",
    "from sklearn.ensemble import RandomForestClassifier"
   ]
  },
  {
   "cell_type": "markdown",
   "id": "823c2f42",
   "metadata": {},
   "source": [
    "# Load Data"
   ]
  },
  {
   "cell_type": "code",
   "execution_count": 4,
   "id": "3023d2f1",
   "metadata": {},
   "outputs": [],
   "source": [
    "#load data\n",
    "dataset = 'IndianPines'\n",
    "\n",
    "if dataset == 'IndianPines':\n",
    "    data = h5py.File('../../data/DRL4BS_paper_data/data4classification/indian_pines_randomSampling_0.1_run_1.mat', 'r')\n",
    "    selected_bands = scipy.io.loadmat('../../data/DRL4BS_paper_data/results/drl_30_bands_indian_pines.mat')\n",
    "elif dataset == 'Botswana':\n",
    "    data = scipy.io.loadmat('../../data/DRL4BS_paper_data/data4classification/botswana_randomSampling_0.1_run_1.mat')\n",
    "    selected_bands = scipy.io.loadmat('../../data/DRL4BS_paper_data/results/drl_30_bands_botswana.mat')\n",
    "    "
   ]
  },
  {
   "cell_type": "code",
   "execution_count": 5,
   "id": "11ddb266",
   "metadata": {},
   "outputs": [],
   "source": [
    "if dataset == 'IndianPines':\n",
    "    x_train = np.array(data['x_tra']).transpose()\n",
    "    y_train = np.argmax(np.array(data['y_tra']).transpose(), axis=1)\n",
    "    x_test = np.array(data['x_test']).transpose()\n",
    "    y_test = np.argmax(np.array(data['y_test']).transpose(), axis=1)\n",
    "\n",
    "elif dataset == 'Botswana':\n",
    "    x_train = np.array(data['x_tra'])\n",
    "    y_train = np.argmax(np.array(data['y_tra']), axis=1)\n",
    "    x_test = np.array(data['x_test'])\n",
    "    y_test = np.argmax(np.array(data['y_test']), axis=1)\n",
    "        \n",
    "selected_bands = selected_bands['selected_bands'][0].astype(int)"
   ]
  },
  {
   "cell_type": "code",
   "execution_count": 6,
   "id": "542d95a1",
   "metadata": {},
   "outputs": [],
   "source": [
    "def runEvalModel(x_train, y_train, x_test, y_test):\n",
    "    \n",
    "    model = LogisticRegression(multi_class='multinomial')\n",
    "    #model = KNeighborsClassifier()\n",
    "    #model = RandomForestClassifier()\n",
    "    model.fit(x_train, y_train)\n",
    "    \n",
    "    pred = model.predict(x_test)\n",
    "    accuracy = accuracy_score(y_true=y_test, y_pred=pred)\n",
    "    \n",
    "    return accuracy\n",
    "    \n",
    "    "
   ]
  },
  {
   "cell_type": "code",
   "execution_count": 9,
   "id": "37257405",
   "metadata": {},
   "outputs": [
    {
     "data": {
      "text/plain": [
       "(9323, 200)"
      ]
     },
     "execution_count": 9,
     "metadata": {},
     "output_type": "execute_result"
    }
   ],
   "source": [
    "x_test.shape"
   ]
  },
  {
   "cell_type": "code",
   "execution_count": 8,
   "id": "9563c899",
   "metadata": {},
   "outputs": [
    {
     "name": "stdout",
     "output_type": "stream",
     "text": [
      "0.5838926174496645\n"
     ]
    },
    {
     "name": "stderr",
     "output_type": "stream",
     "text": [
      "/Users/danielfurman/opt/anaconda3/lib/python3.8/site-packages/sklearn/linear_model/_logistic.py:814: ConvergenceWarning: lbfgs failed to converge (status=1):\n",
      "STOP: TOTAL NO. of ITERATIONS REACHED LIMIT.\n",
      "\n",
      "Increase the number of iterations (max_iter) or scale the data as shown in:\n",
      "    https://scikit-learn.org/stable/modules/preprocessing.html\n",
      "Please also refer to the documentation for alternative solver options:\n",
      "    https://scikit-learn.org/stable/modules/linear_model.html#logistic-regression\n",
      "  n_iter_i = _check_optimize_result(\n"
     ]
    }
   ],
   "source": [
    "#running the model using all available bands\n",
    "print(runEvalModel(x_test, y_test, x_train, y_train))"
   ]
  },
  {
   "cell_type": "code",
   "execution_count": null,
   "id": "fb5f8dc8",
   "metadata": {},
   "outputs": [],
   "source": [
    "selected_bands"
   ]
  },
  {
   "cell_type": "code",
   "execution_count": null,
   "id": "6375e5d0",
   "metadata": {},
   "outputs": [],
   "source": [
    "#running the model using researchers selected bands\n",
    "x_train_researchers_bands = x_train[:, selected_bands]\n",
    "x_test_researchers_band = x_test[:, selected_bands]\n",
    "print(runEvalModel(x_test_researchers_band, y_test, x_train_researchers_bands, y_train, ))"
   ]
  },
  {
   "cell_type": "code",
   "execution_count": null,
   "id": "6f331798",
   "metadata": {},
   "outputs": [],
   "source": [
    "#random selection\n",
    "acc = []\n",
    "available_bands = np.arange(0, x_train.shape[1], 1)\n",
    "iterations = 200\n",
    "for i in range(iterations):\n",
    "    \n",
    "    sample_bands = np.random.choice(available_bands, 30, replace=False)\n",
    "    \n",
    "    x_train_random_bands = x_train[:, sample_bands]\n",
    "    x_test_random_bands = x_test[:, sample_bands]\n",
    "    acc.append(runEvalModel(x_test_random_bands, y_test, x_train_random_bands, y_train, ))"
   ]
  },
  {
   "cell_type": "code",
   "execution_count": null,
   "id": "e4b6c3ed",
   "metadata": {},
   "outputs": [],
   "source": [
    "mean_acc = np.mean(acc)\n",
    "\n",
    "sns.histplot(acc)\n",
    "plt.axvline(mean_acc, label=f'Mean: {mean_acc:.6f}')\n",
    "plt.title('Distribution of Randomly Sampled Bands')\n",
    "plt.legend()\n",
    "plt.show()"
   ]
  },
  {
   "cell_type": "code",
   "execution_count": null,
   "id": "204c0052",
   "metadata": {},
   "outputs": [],
   "source": [
    "# For indian pines flipped test/train:\n",
    "# mean acc for random is 0.51 with logistic reg, acc for researcer bands is 0.53 with logistic regression\n",
    "# basically a 2 pp difference"
   ]
  }
 ],
 "metadata": {
  "interpreter": {
   "hash": "861578ed33d6db9f6e43f823b7375518afe7ad493904df3978bbfc03bb4b0487"
  },
  "kernelspec": {
   "display_name": "Python 3 (ipykernel)",
   "language": "python",
   "name": "python3"
  },
  "language_info": {
   "codemirror_mode": {
    "name": "ipython",
    "version": 3
   },
   "file_extension": ".py",
   "mimetype": "text/x-python",
   "name": "python",
   "nbconvert_exporter": "python",
   "pygments_lexer": "ipython3",
   "version": "3.8.8"
  }
 },
 "nbformat": 4,
 "nbformat_minor": 5
}
