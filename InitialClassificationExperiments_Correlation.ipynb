{
 "cells": [
  {
   "cell_type": "code",
   "execution_count": 23,
   "id": "9d36d722",
   "metadata": {},
   "outputs": [],
   "source": [
    "from sklearn.linear_model import LogisticRegression\n",
    "import scipy.io\n",
    "import numpy as np\n",
    "import h5py\n",
    "from sklearn.datasets import make_classification\n",
    "from sklearn.metrics import accuracy_score\n",
    "import seaborn as sns\n",
    "import matplotlib.pyplot as plt\n",
    "from sklearn.neighbors import KNeighborsClassifier\n",
    "import pandas as pd\n",
    "from sklearn.ensemble import RandomForestClassifier\n",
    "\n",
    "from scipy.stats import pearsonr\n",
    "import itertools"
   ]
  },
  {
   "cell_type": "markdown",
   "id": "823c2f42",
   "metadata": {},
   "source": [
    "# Load Data"
   ]
  },
  {
   "cell_type": "code",
   "execution_count": 24,
   "id": "3023d2f1",
   "metadata": {},
   "outputs": [],
   "source": [
    "#load data\n",
    "dataset = 'IndianPines'\n",
    "\n",
    "if dataset == 'IndianPines':\n",
    "    data = h5py.File('data/original_paper/data4classification/indian_pines_randomSampling_0.1_run_1.mat', 'r')\n",
    "    selected_bands = scipy.io.loadmat('data/original_paper/results/drl_30_bands_indian_pines.mat')\n",
    "elif dataset == 'Botswana':\n",
    "    data = scipy.io.loadmat('data/original_paper/data4classification/botswana_randomSampling_0.1_run_1.mat')\n",
    "    selected_bands = scipy.io.loadmat('data/original_paper/results/drl_30_bands_botswana.mat')\n",
    "    "
   ]
  },
  {
   "cell_type": "code",
   "execution_count": 25,
   "id": "11ddb266",
   "metadata": {},
   "outputs": [],
   "source": [
    "if dataset == 'IndianPines':\n",
    "    x_train = np.array(data['x_tra']).transpose()\n",
    "    y_train = np.argmax(np.array(data['y_tra']).transpose(), axis=1)\n",
    "    x_test = np.array(data['x_test']).transpose()\n",
    "    y_test = np.argmax(np.array(data['y_test']).transpose(), axis=1)\n",
    "\n",
    "elif dataset == 'Botswana':\n",
    "    x_train = np.array(data['x_tra'])\n",
    "    y_train = np.argmax(np.array(data['y_tra']), axis=1)\n",
    "    x_test = np.array(data['x_test'])\n",
    "    y_test = np.argmax(np.array(data['y_test']), axis=1)\n",
    "        \n",
    "selected_bands = selected_bands['selected_bands'][0].astype(int)"
   ]
  },
  {
   "cell_type": "code",
   "execution_count": 26,
   "id": "37257405",
   "metadata": {},
   "outputs": [
    {
     "data": {
      "text/plain": [
       "(1043, 200)"
      ]
     },
     "execution_count": 26,
     "metadata": {},
     "output_type": "execute_result"
    }
   ],
   "source": [
    "x_train.shape"
   ]
  },
  {
   "cell_type": "code",
   "execution_count": 27,
   "metadata": {},
   "outputs": [
    {
     "data": {
      "text/plain": [
       "(1043,)"
      ]
     },
     "execution_count": 27,
     "metadata": {},
     "output_type": "execute_result"
    }
   ],
   "source": [
    "y_train.shape"
   ]
  },
  {
   "cell_type": "code",
   "execution_count": 28,
   "metadata": {},
   "outputs": [
    {
     "data": {
      "text/plain": [
       "(9323, 200)"
      ]
     },
     "execution_count": 28,
     "metadata": {},
     "output_type": "execute_result"
    }
   ],
   "source": [
    "x_test.shape"
   ]
  },
  {
   "cell_type": "code",
   "execution_count": 29,
   "metadata": {},
   "outputs": [
    {
     "data": {
      "text/plain": [
       "(9323,)"
      ]
     },
     "execution_count": 29,
     "metadata": {},
     "output_type": "execute_result"
    }
   ],
   "source": [
    "y_test.shape"
   ]
  },
  {
   "cell_type": "code",
   "execution_count": 30,
   "metadata": {},
   "outputs": [],
   "source": [
    "def runAvgCorrelation(x_test):\n",
    "    x_test = pd.DataFrame(x_test)\n",
    "    \n",
    "    correlations = {}\n",
    "    columns = x_test.columns.tolist()\n",
    "\n",
    "    for col_a, col_b in itertools.combinations(columns, 2):\n",
    "        correlations[str(col_a) + '__' + str(col_b)] = pearsonr(x_test.loc[:, col_a], x_test.loc[:, col_b])\n",
    "\n",
    "    result = pd.DataFrame.from_dict(correlations, orient='index')\n",
    "    result.columns = ['PCC', 'p-value']\n",
    "\n",
    "    return result['PCC'].sum()/len(result['PCC'])\n",
    "    \n",
    "    "
   ]
  },
  {
   "cell_type": "code",
   "execution_count": 31,
   "metadata": {},
   "outputs": [
    {
     "data": {
      "text/plain": [
       "0.28610255865592354"
      ]
     },
     "execution_count": 31,
     "metadata": {},
     "output_type": "execute_result"
    }
   ],
   "source": [
    "#running the correlation using researchers selected bands\n",
    "x_train_researchers_bands = x_train[:, selected_bands]\n",
    "x_test_researchers_band = x_test[:, selected_bands]\n",
    "runAvgCorrelation(x_test_researchers_band)"
   ]
  },
  {
   "cell_type": "code",
   "execution_count": 32,
   "metadata": {},
   "outputs": [],
   "source": [
    "#running the correlation using randomly selected bands\n",
    "corr = []\n",
    "available_bands = np.arange(0, x_test.shape[1], 1)\n",
    "iterations = 200\n",
    "for i in range(iterations):\n",
    "    \n",
    "    sample_bands = np.random.choice(available_bands, 30, replace=False)\n",
    "    \n",
    "    x_test_random_bands = x_test[:, sample_bands]\n",
    "    corr.append(runAvgCorrelation(x_test_random_bands))"
   ]
  },
  {
   "cell_type": "code",
   "execution_count": 33,
   "metadata": {},
   "outputs": [
    {
     "data": {
      "image/png": "[encoded data removed]",
      "text/plain": [
       "<Figure size 640x480 with 1 Axes>"
      ]
     },
     "metadata": {},
     "output_type": "display_data"
    }
   ],
   "source": [
    "mean_corr = np.mean(corr)\n",
    "\n",
    "sns.histplot(corr)\n",
    "plt.axvline(mean_corr, label=f'Mean: {mean_corr:.6f}')\n",
    "plt.title('Distribution of Randomly Sampled Bands')\n",
    "plt.legend()\n",
    "plt.show()"
   ]
  },
  {
   "cell_type": "code",
   "execution_count": null,
   "metadata": {},
   "outputs": [],
   "source": []
  }
 ],
 "metadata": {
  "interpreter": {
   "hash": "861578ed33d6db9f6e43f823b7375518afe7ad493904df3978bbfc03bb4b0487"
  },
  "kernelspec": {
   "display_name": "Python 3.9.12 64-bit ('danielfurman-DrdL3Zfv': pipenv)",
   "name": "python3"
  },
  "language_info": {
   "codemirror_mode": {
    "name": "ipython",
    "version": 3
   },
   "file_extension": ".py",
   "mimetype": "text/x-python",
   "name": "python",
   "nbconvert_exporter": "python",
   "pygments_lexer": "ipython3",
   "version": "3.9.12"
  }
 },
 "nbformat": 4,
 "nbformat_minor": 5
}
