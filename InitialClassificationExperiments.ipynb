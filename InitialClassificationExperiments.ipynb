{
 "cells": [
  {
   "cell_type": "code",
   "execution_count": 1,
   "id": "9d36d722",
   "metadata": {},
   "outputs": [],
   "source": [
    "from sklearn.linear_model import LogisticRegression\n",
    "import scipy.io\n",
    "import numpy as np\n",
    "import h5py\n",
    "from sklearn.datasets import make_classification\n",
    "from sklearn.metrics import accuracy_score\n",
    "import seaborn as sns\n",
    "import matplotlib.pyplot as plt\n",
    "from sklearn.neighbors import KNeighborsClassifier\n",
    "import pandas as pd\n",
    "from sklearn.ensemble import RandomForestClassifier"
   ]
  },
  {
   "cell_type": "markdown",
   "id": "823c2f42",
   "metadata": {},
   "source": [
    "# Load Data"
   ]
  },
  {
   "cell_type": "code",
   "execution_count": 2,
   "id": "3023d2f1",
   "metadata": {},
   "outputs": [],
   "source": [
    "#load data\n",
    "dataset = 'Botswana'\n",
    "\n",
    "if dataset == 'IndianPines':\n",
    "    data = h5py.File('/Users/romitbarua/Documents/Berkeley/Fall 2022/CS285-Deep Reinforcement Learning/Final Project/DRL4BS/data4classification/indian_pines_randomSampling_0.1_run_1.mat', 'r')\n",
    "    selected_bands = scipy.io.loadmat('/Users/romitbarua/Documents/Berkeley/Fall 2022/CS285-Deep Reinforcement Learning/Final Project/DRL4BS/results/drl_30_bands_indian_pines.mat')\n",
    "elif dataset == 'Botswana':\n",
    "    #data = h5py.File('/Users/romitbarua/Documents/Berkeley/Fall 2022/CS285-Deep Reinforcement Learning/Final Project/DRL4BS/data4classification/botswana_randomSampling_0.1_run_1.mat', 'r')\n",
    "    data = scipy.io.loadmat('/Users/romitbarua/Documents/Berkeley/Fall 2022/CS285-Deep Reinforcement Learning/Final Project/DRL4BS/data4classification/botswana_randomSampling_0.1_run_1.mat')\n",
    "    selected_bands = scipy.io.loadmat('/Users/romitbarua/Documents/Berkeley/Fall 2022/CS285-Deep Reinforcement Learning/Final Project/DRL4BS/results/drl_30_bands_botswana.mat')\n",
    "    "
   ]
  },
  {
   "cell_type": "code",
   "execution_count": 3,
   "id": "11ddb266",
   "metadata": {},
   "outputs": [],
   "source": [
    "if dataset == 'IndianPines':\n",
    "    x_train = np.array(data['x_tra']).transpose()\n",
    "    y_train = np.argmax(np.array(data['y_tra']).transpose(), axis=1)\n",
    "    x_test = np.array(data['x_test']).transpose()\n",
    "    y_test = np.argmax(np.array(data['y_test']).transpose(), axis=1)\n",
    "\n",
    "elif dataset == 'Botswana':\n",
    "    x_train = np.array(data['x_tra'])\n",
    "    y_train = np.argmax(np.array(data['y_tra']), axis=1)\n",
    "    x_test = np.array(data['x_test'])\n",
    "    y_test = np.argmax(np.array(data['y_test']), axis=1)\n",
    "        \n",
    "selected_bands = selected_bands['selected_bands'][0].astype(int)"
   ]
  },
  {
   "cell_type": "code",
   "execution_count": 4,
   "id": "542d95a1",
   "metadata": {},
   "outputs": [],
   "source": [
    "def runEvalModel(x_train, y_train, x_test, y_test):\n",
    "    \n",
    "    #model = LogisticRegression(multi_class='multinomial')\n",
    "    model = KNeighborsClassifier()\n",
    "    #model = RandomForestClassifier()\n",
    "    model.fit(x_train, y_train)\n",
    "    \n",
    "    pred = model.predict(x_test)\n",
    "    accuracy = accuracy_score(y_true=y_test, y_pred=pred)\n",
    "    \n",
    "    return accuracy\n",
    "    \n",
    "    "
   ]
  },
  {
   "cell_type": "code",
   "execution_count": 5,
   "id": "37257405",
   "metadata": {},
   "outputs": [
    {
     "data": {
      "text/plain": [
       "(2917,)"
      ]
     },
     "execution_count": 5,
     "metadata": {},
     "output_type": "execute_result"
    }
   ],
   "source": [
    "y_test.shape"
   ]
  },
  {
   "cell_type": "code",
   "execution_count": 6,
   "id": "9563c899",
   "metadata": {},
   "outputs": [
    {
     "name": "stdout",
     "output_type": "stream",
     "text": [
      "0.8594446348988687\n"
     ]
    }
   ],
   "source": [
    "#running the model using all available bands\n",
    "print(runEvalModel(x_train, y_train, x_test, y_test))"
   ]
  },
  {
   "cell_type": "code",
   "execution_count": 7,
   "id": "fb5f8dc8",
   "metadata": {},
   "outputs": [
    {
     "data": {
      "text/plain": [
       "array([  5,  16,  32,  50,  38,  47,  27,  78,  26,  37,   3, 142,  24,\n",
       "        72,  64,  31,  28,  74, 101,  30, 117,  85, 109,  19,  55,  33,\n",
       "        73,  36,  56,  52])"
      ]
     },
     "execution_count": 7,
     "metadata": {},
     "output_type": "execute_result"
    }
   ],
   "source": [
    "selected_bands"
   ]
  },
  {
   "cell_type": "code",
   "execution_count": 8,
   "id": "6375e5d0",
   "metadata": {},
   "outputs": [
    {
     "name": "stdout",
     "output_type": "stream",
     "text": [
      "0.8659581762084333\n"
     ]
    }
   ],
   "source": [
    "#running the model using researchers selected bands\n",
    "x_train_researchers_bands = x_train[:, selected_bands]\n",
    "x_test_researchers_band = x_test[:, selected_bands]\n",
    "print(runEvalModel(x_train_researchers_bands, y_train, x_test_researchers_band, y_test))"
   ]
  },
  {
   "cell_type": "code",
   "execution_count": 9,
   "id": "6f331798",
   "metadata": {},
   "outputs": [],
   "source": [
    "#random selection\n",
    "acc = []\n",
    "available_bands = np.arange(0, x_train.shape[1], 1)\n",
    "iterations = 200\n",
    "for i in range(iterations):\n",
    "    \n",
    "    sample_bands = np.random.choice(available_bands, 30, replace=False)\n",
    "    \n",
    "    x_train_random_bands = x_train[:, sample_bands]\n",
    "    x_test_random_bands = x_test[:, sample_bands]\n",
    "    acc.append(runEvalModel(x_train_random_bands, y_train, x_test_random_bands, y_test))"
   ]
  },
  {
   "cell_type": "code",
   "execution_count": 10,
   "id": "e4b6c3ed",
   "metadata": {},
   "outputs": [
    {
     "data": {
      "image/png": "[encoded data removed]",
      "text/plain": [
       "<Figure size 432x288 with 1 Axes>"
      ]
     },
     "metadata": {
      "needs_background": "light"
     },
     "output_type": "display_data"
    }
   ],
   "source": [
    "mean_acc = np.mean(acc)\n",
    "\n",
    "sns.histplot(acc)\n",
    "plt.axvline(mean_acc, label=f'Mean: {mean_acc:.6f}')\n",
    "plt.title('Distribution of Randomly Sampled Bands')\n",
    "plt.legend()\n",
    "plt.show()"
   ]
  },
  {
   "cell_type": "code",
   "execution_count": 11,
   "id": "75cff72f",
   "metadata": {},
   "outputs": [
    {
     "data": {
      "text/plain": [
       "(331, 145)"
      ]
     },
     "execution_count": 11,
     "metadata": {},
     "output_type": "execute_result"
    }
   ],
   "source": [
    "x_train.shape"
   ]
  },
  {
   "cell_type": "code",
   "execution_count": 12,
   "id": "bcb163f2",
   "metadata": {},
   "outputs": [
    {
     "data": {
      "text/plain": [
       "0.6479259513198492"
      ]
     },
     "execution_count": 12,
     "metadata": {},
     "output_type": "execute_result"
    }
   ],
   "source": [
    "x_train_first_bands = x_train[:, 30:60]\n",
    "x_test_first_bands = x_test[:, 30:60]\n",
    "runEvalModel(x_train_first_bands, y_train, x_test_first_bands, y_test)"
   ]
  },
  {
   "cell_type": "code",
   "execution_count": 13,
   "id": "127717f1",
   "metadata": {},
   "outputs": [
    {
     "ename": "IndexError",
     "evalue": "index 194 is out of bounds for axis 1 with size 145",
     "output_type": "error",
     "traceback": [
      "\u001b[0;31m---------------------------------------------------------------------------\u001b[0m",
      "\u001b[0;31mIndexError\u001b[0m                                Traceback (most recent call last)",
      "\u001b[0;32m<ipython-input-13-425b6f357726>\u001b[0m in \u001b[0;36m<module>\u001b[0;34m\u001b[0m\n\u001b[1;32m      4\u001b[0m \u001b[0;34m\u001b[0m\u001b[0m\n\u001b[1;32m      5\u001b[0m \u001b[0;34m\u001b[0m\u001b[0m\n\u001b[0;32m----> 6\u001b[0;31m \u001b[0mx_train_first_bands\u001b[0m \u001b[0;34m=\u001b[0m \u001b[0mx_train\u001b[0m\u001b[0;34m[\u001b[0m\u001b[0;34m:\u001b[0m\u001b[0;34m,\u001b[0m \u001b[0msample_test\u001b[0m\u001b[0;34m]\u001b[0m\u001b[0;34m\u001b[0m\u001b[0;34m\u001b[0m\u001b[0m\n\u001b[0m\u001b[1;32m      7\u001b[0m \u001b[0mx_test_first_bands\u001b[0m \u001b[0;34m=\u001b[0m \u001b[0mx_test\u001b[0m\u001b[0;34m[\u001b[0m\u001b[0;34m:\u001b[0m\u001b[0;34m,\u001b[0m \u001b[0msample_test\u001b[0m\u001b[0;34m]\u001b[0m\u001b[0;34m\u001b[0m\u001b[0;34m\u001b[0m\u001b[0m\n\u001b[1;32m      8\u001b[0m \u001b[0mrunEvalModel\u001b[0m\u001b[0;34m(\u001b[0m\u001b[0mx_train_first_bands\u001b[0m\u001b[0;34m,\u001b[0m \u001b[0my_train\u001b[0m\u001b[0;34m,\u001b[0m \u001b[0mx_test_first_bands\u001b[0m\u001b[0;34m,\u001b[0m \u001b[0my_test\u001b[0m\u001b[0;34m)\u001b[0m\u001b[0;34m\u001b[0m\u001b[0;34m\u001b[0m\u001b[0m\n",
      "\u001b[0;31mIndexError\u001b[0m: index 194 is out of bounds for axis 1 with size 145"
     ]
    }
   ],
   "source": [
    "sample_test = np.array([130, 25,  39, 194,  97,   4, 101,  88,  67,  54,  90,  37, 182,  73,  15,  75, 153, 100,\n",
    "  10,  55, 158,  35, 166,   2, 167, 175,  98,  85,  34, 174])\n",
    "\n",
    "\n",
    "\n",
    "x_train_first_bands = x_train[:, sample_test]\n",
    "x_test_first_bands = x_test[:, sample_test]\n",
    "runEvalModel(x_train_first_bands, y_train, x_test_first_bands, y_test)"
   ]
  },
  {
   "cell_type": "code",
   "execution_count": null,
   "id": "4939a27b",
   "metadata": {},
   "outputs": [],
   "source": [
    "x_train_first_bands.shape"
   ]
  }
 ],
 "metadata": {
  "kernelspec": {
   "display_name": "Python 3",
   "language": "python",
   "name": "python3"
  },
  "language_info": {
   "codemirror_mode": {
    "name": "ipython",
    "version": 3
   },
   "file_extension": ".py",
   "mimetype": "text/x-python",
   "name": "python",
   "nbconvert_exporter": "python",
   "pygments_lexer": "ipython3",
   "version": "3.8.8"
  }
 },
 "nbformat": 4,
 "nbformat_minor": 5
}
